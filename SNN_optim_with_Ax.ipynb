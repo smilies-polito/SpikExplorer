{
  "cells": [
    {
      "cell_type": "code",
      "execution_count": null,
      "metadata": {
        "colab": {
          "base_uri": "https://localhost:8080/"
        },
        "id": "HDxJ3lFLbcKO",
        "outputId": "e4185809-5e50-497d-8717-358626d47882"
      },
      "outputs": [
        {
          "output_type": "stream",
          "name": "stdout",
          "text": [
            "Looking in indexes: https://pypi.org/simple, https://us-python.pkg.dev/colab-wheels/public/simple/\n",
            "Collecting ax-platform\n",
            "  Downloading ax_platform-0.3.2-py3-none-any.whl (1.2 MB)\n",
            "\u001b[2K     \u001b[90m━━━━━━━━━━━━━━━━━━━━━━━━━━━━━━━━━━━━━━━━\u001b[0m \u001b[32m1.2/1.2 MB\u001b[0m \u001b[31m13.9 MB/s\u001b[0m eta \u001b[36m0:00:00\u001b[0m\n",
            "\u001b[?25hCollecting botorch==0.8.5 (from ax-platform)\n",
            "  Downloading botorch-0.8.5-py3-none-any.whl (530 kB)\n",
            "\u001b[2K     \u001b[90m━━━━━━━━━━━━━━━━━━━━━━━━━━━━━━━━━━━━━━\u001b[0m \u001b[32m530.3/530.3 kB\u001b[0m \u001b[31m24.6 MB/s\u001b[0m eta \u001b[36m0:00:00\u001b[0m\n",
            "\u001b[?25hRequirement already satisfied: jinja2 in /usr/local/lib/python3.10/dist-packages (from ax-platform) (3.1.2)\n",
            "Requirement already satisfied: pandas in /usr/local/lib/python3.10/dist-packages (from ax-platform) (1.5.3)\n",
            "Requirement already satisfied: scipy in /usr/local/lib/python3.10/dist-packages (from ax-platform) (1.10.1)\n",
            "Requirement already satisfied: scikit-learn in /usr/local/lib/python3.10/dist-packages (from ax-platform) (1.2.2)\n",
            "Requirement already satisfied: ipywidgets in /usr/local/lib/python3.10/dist-packages (from ax-platform) (7.7.1)\n",
            "Requirement already satisfied: plotly>=5.12.0 in /usr/local/lib/python3.10/dist-packages (from ax-platform) (5.13.1)\n",
            "Collecting typeguard==2.13.3 (from ax-platform)\n",
            "  Downloading typeguard-2.13.3-py3-none-any.whl (17 kB)\n",
            "Requirement already satisfied: multipledispatch in /usr/local/lib/python3.10/dist-packages (from botorch==0.8.5->ax-platform) (0.6.0)\n",
            "Requirement already satisfied: torch>=1.12 in /usr/local/lib/python3.10/dist-packages (from botorch==0.8.5->ax-platform) (2.0.1+cu118)\n",
            "Collecting pyro-ppl>=1.8.4 (from botorch==0.8.5->ax-platform)\n",
            "  Downloading pyro_ppl-1.8.4-py3-none-any.whl (730 kB)\n",
            "\u001b[2K     \u001b[90m━━━━━━━━━━━━━━━━━━━━━━━━━━━━━━━━━━━━━━\u001b[0m \u001b[32m730.7/730.7 kB\u001b[0m \u001b[31m32.6 MB/s\u001b[0m eta \u001b[36m0:00:00\u001b[0m\n",
            "\u001b[?25hCollecting gpytorch==1.10 (from botorch==0.8.5->ax-platform)\n",
            "  Downloading gpytorch-1.10-py3-none-any.whl (255 kB)\n",
            "\u001b[2K     \u001b[90m━━━━━━━━━━━━━━━━━━━━━━━━━━━━━━━━━━━━━━\u001b[0m \u001b[32m255.2/255.2 kB\u001b[0m \u001b[31m17.4 MB/s\u001b[0m eta \u001b[36m0:00:00\u001b[0m\n",
            "\u001b[?25hCollecting linear-operator==0.4.0 (from botorch==0.8.5->ax-platform)\n",
            "  Downloading linear_operator-0.4.0-py3-none-any.whl (156 kB)\n",
            "\u001b[2K     \u001b[90m━━━━━━━━━━━━━━━━━━━━━━━━━━━━━━━━━━━━━━\u001b[0m \u001b[32m156.7/156.7 kB\u001b[0m \u001b[31m12.1 MB/s\u001b[0m eta \u001b[36m0:00:00\u001b[0m\n",
            "\u001b[?25hRequirement already satisfied: tenacity>=6.2.0 in /usr/local/lib/python3.10/dist-packages (from plotly>=5.12.0->ax-platform) (8.2.2)\n",
            "Requirement already satisfied: ipykernel>=4.5.1 in /usr/local/lib/python3.10/dist-packages (from ipywidgets->ax-platform) (5.5.6)\n",
            "Requirement already satisfied: ipython-genutils~=0.2.0 in /usr/local/lib/python3.10/dist-packages (from ipywidgets->ax-platform) (0.2.0)\n",
            "Requirement already satisfied: traitlets>=4.3.1 in /usr/local/lib/python3.10/dist-packages (from ipywidgets->ax-platform) (5.7.1)\n",
            "Requirement already satisfied: widgetsnbextension~=3.6.0 in /usr/local/lib/python3.10/dist-packages (from ipywidgets->ax-platform) (3.6.4)\n",
            "Requirement already satisfied: ipython>=4.0.0 in /usr/local/lib/python3.10/dist-packages (from ipywidgets->ax-platform) (7.34.0)\n",
            "Requirement already satisfied: jupyterlab-widgets>=1.0.0 in /usr/local/lib/python3.10/dist-packages (from ipywidgets->ax-platform) (3.0.7)\n",
            "Requirement already satisfied: MarkupSafe>=2.0 in /usr/local/lib/python3.10/dist-packages (from jinja2->ax-platform) (2.1.2)\n",
            "Requirement already satisfied: python-dateutil>=2.8.1 in /usr/local/lib/python3.10/dist-packages (from pandas->ax-platform) (2.8.2)\n",
            "Requirement already satisfied: pytz>=2020.1 in /usr/local/lib/python3.10/dist-packages (from pandas->ax-platform) (2022.7.1)\n",
            "Requirement already satisfied: numpy>=1.21.0 in /usr/local/lib/python3.10/dist-packages (from pandas->ax-platform) (1.22.4)\n",
            "Requirement already satisfied: joblib>=1.1.1 in /usr/local/lib/python3.10/dist-packages (from scikit-learn->ax-platform) (1.2.0)\n",
            "Requirement already satisfied: threadpoolctl>=2.0.0 in /usr/local/lib/python3.10/dist-packages (from scikit-learn->ax-platform) (3.1.0)\n",
            "Requirement already satisfied: jupyter-client in /usr/local/lib/python3.10/dist-packages (from ipykernel>=4.5.1->ipywidgets->ax-platform) (6.1.12)\n",
            "Requirement already satisfied: tornado>=4.2 in /usr/local/lib/python3.10/dist-packages (from ipykernel>=4.5.1->ipywidgets->ax-platform) (6.3.1)\n",
            "Requirement already satisfied: setuptools>=18.5 in /usr/local/lib/python3.10/dist-packages (from ipython>=4.0.0->ipywidgets->ax-platform) (67.7.2)\n",
            "Collecting jedi>=0.16 (from ipython>=4.0.0->ipywidgets->ax-platform)\n",
            "  Downloading jedi-0.18.2-py2.py3-none-any.whl (1.6 MB)\n",
            "\u001b[2K     \u001b[90m━━━━━━━━━━━━━━━━━━━━━━━━━━━━━━━━━━━━━━━━\u001b[0m \u001b[32m1.6/1.6 MB\u001b[0m \u001b[31m47.0 MB/s\u001b[0m eta \u001b[36m0:00:00\u001b[0m\n",
            "\u001b[?25hRequirement already satisfied: decorator in /usr/local/lib/python3.10/dist-packages (from ipython>=4.0.0->ipywidgets->ax-platform) (4.4.2)\n",
            "Requirement already satisfied: pickleshare in /usr/local/lib/python3.10/dist-packages (from ipython>=4.0.0->ipywidgets->ax-platform) (0.7.5)\n",
            "Requirement already satisfied: prompt-toolkit!=3.0.0,!=3.0.1,<3.1.0,>=2.0.0 in /usr/local/lib/python3.10/dist-packages (from ipython>=4.0.0->ipywidgets->ax-platform) (3.0.38)\n",
            "Requirement already satisfied: pygments in /usr/local/lib/python3.10/dist-packages (from ipython>=4.0.0->ipywidgets->ax-platform) (2.14.0)\n",
            "Requirement already satisfied: backcall in /usr/local/lib/python3.10/dist-packages (from ipython>=4.0.0->ipywidgets->ax-platform) (0.2.0)\n",
            "Requirement already satisfied: matplotlib-inline in /usr/local/lib/python3.10/dist-packages (from ipython>=4.0.0->ipywidgets->ax-platform) (0.1.6)\n",
            "Requirement already satisfied: pexpect>4.3 in /usr/local/lib/python3.10/dist-packages (from ipython>=4.0.0->ipywidgets->ax-platform) (4.8.0)\n",
            "Requirement already satisfied: opt-einsum>=2.3.2 in /usr/local/lib/python3.10/dist-packages (from pyro-ppl>=1.8.4->botorch==0.8.5->ax-platform) (3.3.0)\n",
            "Collecting pyro-api>=0.1.1 (from pyro-ppl>=1.8.4->botorch==0.8.5->ax-platform)\n",
            "  Downloading pyro_api-0.1.2-py3-none-any.whl (11 kB)\n",
            "Requirement already satisfied: tqdm>=4.36 in /usr/local/lib/python3.10/dist-packages (from pyro-ppl>=1.8.4->botorch==0.8.5->ax-platform) (4.65.0)\n",
            "Requirement already satisfied: six>=1.5 in /usr/local/lib/python3.10/dist-packages (from python-dateutil>=2.8.1->pandas->ax-platform) (1.16.0)\n",
            "Requirement already satisfied: filelock in /usr/local/lib/python3.10/dist-packages (from torch>=1.12->botorch==0.8.5->ax-platform) (3.12.0)\n",
            "Requirement already satisfied: typing-extensions in /usr/local/lib/python3.10/dist-packages (from torch>=1.12->botorch==0.8.5->ax-platform) (4.5.0)\n",
            "Requirement already satisfied: sympy in /usr/local/lib/python3.10/dist-packages (from torch>=1.12->botorch==0.8.5->ax-platform) (1.11.1)\n",
            "Requirement already satisfied: networkx in /usr/local/lib/python3.10/dist-packages (from torch>=1.12->botorch==0.8.5->ax-platform) (3.1)\n",
            "Requirement already satisfied: triton==2.0.0 in /usr/local/lib/python3.10/dist-packages (from torch>=1.12->botorch==0.8.5->ax-platform) (2.0.0)\n",
            "Requirement already satisfied: cmake in /usr/local/lib/python3.10/dist-packages (from triton==2.0.0->torch>=1.12->botorch==0.8.5->ax-platform) (3.25.2)\n",
            "Requirement already satisfied: lit in /usr/local/lib/python3.10/dist-packages (from triton==2.0.0->torch>=1.12->botorch==0.8.5->ax-platform) (16.0.5)\n",
            "Requirement already satisfied: notebook>=4.4.1 in /usr/local/lib/python3.10/dist-packages (from widgetsnbextension~=3.6.0->ipywidgets->ax-platform) (6.4.8)\n",
            "Requirement already satisfied: parso<0.9.0,>=0.8.0 in /usr/local/lib/python3.10/dist-packages (from jedi>=0.16->ipython>=4.0.0->ipywidgets->ax-platform) (0.8.3)\n",
            "Requirement already satisfied: pyzmq>=17 in /usr/local/lib/python3.10/dist-packages (from notebook>=4.4.1->widgetsnbextension~=3.6.0->ipywidgets->ax-platform) (23.2.1)\n",
            "Requirement already satisfied: argon2-cffi in /usr/local/lib/python3.10/dist-packages (from notebook>=4.4.1->widgetsnbextension~=3.6.0->ipywidgets->ax-platform) (21.3.0)\n",
            "Requirement already satisfied: jupyter-core>=4.6.1 in /usr/local/lib/python3.10/dist-packages (from notebook>=4.4.1->widgetsnbextension~=3.6.0->ipywidgets->ax-platform) (5.3.0)\n",
            "Requirement already satisfied: nbformat in /usr/local/lib/python3.10/dist-packages (from notebook>=4.4.1->widgetsnbextension~=3.6.0->ipywidgets->ax-platform) (5.8.0)\n",
            "Requirement already satisfied: nbconvert in /usr/local/lib/python3.10/dist-packages (from notebook>=4.4.1->widgetsnbextension~=3.6.0->ipywidgets->ax-platform) (6.5.4)\n",
            "Requirement already satisfied: nest-asyncio>=1.5 in /usr/local/lib/python3.10/dist-packages (from notebook>=4.4.1->widgetsnbextension~=3.6.0->ipywidgets->ax-platform) (1.5.6)\n",
            "Requirement already satisfied: Send2Trash>=1.8.0 in /usr/local/lib/python3.10/dist-packages (from notebook>=4.4.1->widgetsnbextension~=3.6.0->ipywidgets->ax-platform) (1.8.0)\n",
            "Requirement already satisfied: terminado>=0.8.3 in /usr/local/lib/python3.10/dist-packages (from notebook>=4.4.1->widgetsnbextension~=3.6.0->ipywidgets->ax-platform) (0.17.1)\n",
            "Requirement already satisfied: prometheus-client in /usr/local/lib/python3.10/dist-packages (from notebook>=4.4.1->widgetsnbextension~=3.6.0->ipywidgets->ax-platform) (0.16.0)\n",
            "Requirement already satisfied: ptyprocess>=0.5 in /usr/local/lib/python3.10/dist-packages (from pexpect>4.3->ipython>=4.0.0->ipywidgets->ax-platform) (0.7.0)\n",
            "Requirement already satisfied: wcwidth in /usr/local/lib/python3.10/dist-packages (from prompt-toolkit!=3.0.0,!=3.0.1,<3.1.0,>=2.0.0->ipython>=4.0.0->ipywidgets->ax-platform) (0.2.6)\n",
            "Requirement already satisfied: mpmath>=0.19 in /usr/local/lib/python3.10/dist-packages (from sympy->torch>=1.12->botorch==0.8.5->ax-platform) (1.3.0)\n",
            "Requirement already satisfied: platformdirs>=2.5 in /usr/local/lib/python3.10/dist-packages (from jupyter-core>=4.6.1->notebook>=4.4.1->widgetsnbextension~=3.6.0->ipywidgets->ax-platform) (3.3.0)\n",
            "Requirement already satisfied: argon2-cffi-bindings in /usr/local/lib/python3.10/dist-packages (from argon2-cffi->notebook>=4.4.1->widgetsnbextension~=3.6.0->ipywidgets->ax-platform) (21.2.0)\n",
            "Requirement already satisfied: lxml in /usr/local/lib/python3.10/dist-packages (from nbconvert->notebook>=4.4.1->widgetsnbextension~=3.6.0->ipywidgets->ax-platform) (4.9.2)\n",
            "Requirement already satisfied: beautifulsoup4 in /usr/local/lib/python3.10/dist-packages (from nbconvert->notebook>=4.4.1->widgetsnbextension~=3.6.0->ipywidgets->ax-platform) (4.11.2)\n",
            "Requirement already satisfied: bleach in /usr/local/lib/python3.10/dist-packages (from nbconvert->notebook>=4.4.1->widgetsnbextension~=3.6.0->ipywidgets->ax-platform) (6.0.0)\n",
            "Requirement already satisfied: defusedxml in /usr/local/lib/python3.10/dist-packages (from nbconvert->notebook>=4.4.1->widgetsnbextension~=3.6.0->ipywidgets->ax-platform) (0.7.1)\n",
            "Requirement already satisfied: entrypoints>=0.2.2 in /usr/local/lib/python3.10/dist-packages (from nbconvert->notebook>=4.4.1->widgetsnbextension~=3.6.0->ipywidgets->ax-platform) (0.4)\n",
            "Requirement already satisfied: jupyterlab-pygments in /usr/local/lib/python3.10/dist-packages (from nbconvert->notebook>=4.4.1->widgetsnbextension~=3.6.0->ipywidgets->ax-platform) (0.2.2)\n",
            "Requirement already satisfied: mistune<2,>=0.8.1 in /usr/local/lib/python3.10/dist-packages (from nbconvert->notebook>=4.4.1->widgetsnbextension~=3.6.0->ipywidgets->ax-platform) (0.8.4)\n",
            "Requirement already satisfied: nbclient>=0.5.0 in /usr/local/lib/python3.10/dist-packages (from nbconvert->notebook>=4.4.1->widgetsnbextension~=3.6.0->ipywidgets->ax-platform) (0.7.4)\n",
            "Requirement already satisfied: packaging in /usr/local/lib/python3.10/dist-packages (from nbconvert->notebook>=4.4.1->widgetsnbextension~=3.6.0->ipywidgets->ax-platform) (23.1)\n",
            "Requirement already satisfied: pandocfilters>=1.4.1 in /usr/local/lib/python3.10/dist-packages (from nbconvert->notebook>=4.4.1->widgetsnbextension~=3.6.0->ipywidgets->ax-platform) (1.5.0)\n",
            "Requirement already satisfied: tinycss2 in /usr/local/lib/python3.10/dist-packages (from nbconvert->notebook>=4.4.1->widgetsnbextension~=3.6.0->ipywidgets->ax-platform) (1.2.1)\n",
            "Requirement already satisfied: fastjsonschema in /usr/local/lib/python3.10/dist-packages (from nbformat->notebook>=4.4.1->widgetsnbextension~=3.6.0->ipywidgets->ax-platform) (2.16.3)\n",
            "Requirement already satisfied: jsonschema>=2.6 in /usr/local/lib/python3.10/dist-packages (from nbformat->notebook>=4.4.1->widgetsnbextension~=3.6.0->ipywidgets->ax-platform) (4.3.3)\n",
            "Requirement already satisfied: attrs>=17.4.0 in /usr/local/lib/python3.10/dist-packages (from jsonschema>=2.6->nbformat->notebook>=4.4.1->widgetsnbextension~=3.6.0->ipywidgets->ax-platform) (23.1.0)\n",
            "Requirement already satisfied: pyrsistent!=0.17.0,!=0.17.1,!=0.17.2,>=0.14.0 in /usr/local/lib/python3.10/dist-packages (from jsonschema>=2.6->nbformat->notebook>=4.4.1->widgetsnbextension~=3.6.0->ipywidgets->ax-platform) (0.19.3)\n",
            "Requirement already satisfied: cffi>=1.0.1 in /usr/local/lib/python3.10/dist-packages (from argon2-cffi-bindings->argon2-cffi->notebook>=4.4.1->widgetsnbextension~=3.6.0->ipywidgets->ax-platform) (1.15.1)\n",
            "Requirement already satisfied: soupsieve>1.2 in /usr/local/lib/python3.10/dist-packages (from beautifulsoup4->nbconvert->notebook>=4.4.1->widgetsnbextension~=3.6.0->ipywidgets->ax-platform) (2.4.1)\n",
            "Requirement already satisfied: webencodings in /usr/local/lib/python3.10/dist-packages (from bleach->nbconvert->notebook>=4.4.1->widgetsnbextension~=3.6.0->ipywidgets->ax-platform) (0.5.1)\n",
            "Requirement already satisfied: pycparser in /usr/local/lib/python3.10/dist-packages (from cffi>=1.0.1->argon2-cffi-bindings->argon2-cffi->notebook>=4.4.1->widgetsnbextension~=3.6.0->ipywidgets->ax-platform) (2.21)\n",
            "Installing collected packages: pyro-api, typeguard, jedi, linear-operator, pyro-ppl, gpytorch, botorch, ax-platform\n",
            "Successfully installed ax-platform-0.3.2 botorch-0.8.5 gpytorch-1.10 jedi-0.18.2 linear-operator-0.4.0 pyro-api-0.1.2 pyro-ppl-1.8.4 typeguard-2.13.3\n"
          ]
        }
      ],
      "source": [
        "!pip install ax-platform"
      ]
    },
    {
      "cell_type": "code",
      "execution_count": null,
      "metadata": {
        "colab": {
          "base_uri": "https://localhost:8080/"
        },
        "id": "fI5Ac9srmVD2",
        "outputId": "015c58da-7b3d-4dd7-f080-a0aa1dfd73c9"
      },
      "outputs": [
        {
          "output_type": "stream",
          "name": "stdout",
          "text": [
            "Looking in indexes: https://pypi.org/simple, https://us-python.pkg.dev/colab-wheels/public/simple/\n",
            "Collecting snnTorch\n",
            "  Downloading snntorch-0.6.2-py2.py3-none-any.whl (104 kB)\n",
            "\u001b[2K     \u001b[90m━━━━━━━━━━━━━━━━━━━━━━━━━━━━━━━━━━━━━━━\u001b[0m \u001b[32m104.7/104.7 kB\u001b[0m \u001b[31m3.2 MB/s\u001b[0m eta \u001b[36m0:00:00\u001b[0m\n",
            "\u001b[?25hRequirement already satisfied: torch>=1.1.0 in /usr/local/lib/python3.10/dist-packages (from snnTorch) (2.0.1+cu118)\n",
            "Requirement already satisfied: pandas in /usr/local/lib/python3.10/dist-packages (from snnTorch) (1.5.3)\n",
            "Requirement already satisfied: matplotlib in /usr/local/lib/python3.10/dist-packages (from snnTorch) (3.7.1)\n",
            "Requirement already satisfied: numpy>=1.17 in /usr/local/lib/python3.10/dist-packages (from snnTorch) (1.22.4)\n",
            "Requirement already satisfied: filelock in /usr/local/lib/python3.10/dist-packages (from torch>=1.1.0->snnTorch) (3.12.0)\n",
            "Requirement already satisfied: typing-extensions in /usr/local/lib/python3.10/dist-packages (from torch>=1.1.0->snnTorch) (4.5.0)\n",
            "Requirement already satisfied: sympy in /usr/local/lib/python3.10/dist-packages (from torch>=1.1.0->snnTorch) (1.11.1)\n",
            "Requirement already satisfied: networkx in /usr/local/lib/python3.10/dist-packages (from torch>=1.1.0->snnTorch) (3.1)\n",
            "Requirement already satisfied: jinja2 in /usr/local/lib/python3.10/dist-packages (from torch>=1.1.0->snnTorch) (3.1.2)\n",
            "Requirement already satisfied: triton==2.0.0 in /usr/local/lib/python3.10/dist-packages (from torch>=1.1.0->snnTorch) (2.0.0)\n",
            "Requirement already satisfied: cmake in /usr/local/lib/python3.10/dist-packages (from triton==2.0.0->torch>=1.1.0->snnTorch) (3.25.2)\n",
            "Requirement already satisfied: lit in /usr/local/lib/python3.10/dist-packages (from triton==2.0.0->torch>=1.1.0->snnTorch) (16.0.5)\n",
            "Requirement already satisfied: contourpy>=1.0.1 in /usr/local/lib/python3.10/dist-packages (from matplotlib->snnTorch) (1.0.7)\n",
            "Requirement already satisfied: cycler>=0.10 in /usr/local/lib/python3.10/dist-packages (from matplotlib->snnTorch) (0.11.0)\n",
            "Requirement already satisfied: fonttools>=4.22.0 in /usr/local/lib/python3.10/dist-packages (from matplotlib->snnTorch) (4.39.3)\n",
            "Requirement already satisfied: kiwisolver>=1.0.1 in /usr/local/lib/python3.10/dist-packages (from matplotlib->snnTorch) (1.4.4)\n",
            "Requirement already satisfied: packaging>=20.0 in /usr/local/lib/python3.10/dist-packages (from matplotlib->snnTorch) (23.1)\n",
            "Requirement already satisfied: pillow>=6.2.0 in /usr/local/lib/python3.10/dist-packages (from matplotlib->snnTorch) (8.4.0)\n",
            "Requirement already satisfied: pyparsing>=2.3.1 in /usr/local/lib/python3.10/dist-packages (from matplotlib->snnTorch) (3.0.9)\n",
            "Requirement already satisfied: python-dateutil>=2.7 in /usr/local/lib/python3.10/dist-packages (from matplotlib->snnTorch) (2.8.2)\n",
            "Requirement already satisfied: pytz>=2020.1 in /usr/local/lib/python3.10/dist-packages (from pandas->snnTorch) (2022.7.1)\n",
            "Requirement already satisfied: six>=1.5 in /usr/local/lib/python3.10/dist-packages (from python-dateutil>=2.7->matplotlib->snnTorch) (1.16.0)\n",
            "Requirement already satisfied: MarkupSafe>=2.0 in /usr/local/lib/python3.10/dist-packages (from jinja2->torch>=1.1.0->snnTorch) (2.1.2)\n",
            "Requirement already satisfied: mpmath>=0.19 in /usr/local/lib/python3.10/dist-packages (from sympy->torch>=1.1.0->snnTorch) (1.3.0)\n",
            "Installing collected packages: snnTorch\n",
            "Successfully installed snnTorch-0.6.2\n"
          ]
        }
      ],
      "source": [
        "!pip install snnTorch"
      ]
    },
    {
      "cell_type": "code",
      "execution_count": null,
      "metadata": {
        "id": "oCJaMgkncDZx"
      },
      "outputs": [],
      "source": [
        "from ax.service.managed_loop import optimize\n",
        "from ax.plot.contour import plot_contour\n",
        "from ax.plot.trace import optimization_trace_single_method\n",
        "from ax.utils.notebook.plotting import render, init_notebook_plotting"
      ]
    },
    {
      "cell_type": "code",
      "execution_count": null,
      "metadata": {
        "id": "x2rYQ34WcRRX"
      },
      "outputs": [],
      "source": [
        "import torch\n",
        "from torch import nn, optim\n",
        "from torch.utils.data import DataLoader\n",
        "from torchvision import datasets, transforms\n",
        "from torchsummary import summary\n",
        "import numpy as np"
      ]
    },
    {
      "cell_type": "code",
      "execution_count": null,
      "metadata": {
        "id": "3mzL2wDLoGx-"
      },
      "outputs": [],
      "source": [
        "import snntorch as snn"
      ]
    },
    {
      "cell_type": "code",
      "execution_count": null,
      "metadata": {
        "colab": {
          "base_uri": "https://localhost:8080/"
        },
        "id": "FjJnMPK9cUnR",
        "outputId": "e04f7ced-3f91-4efb-f66a-6c06257d4b92"
      },
      "outputs": [
        {
          "output_type": "stream",
          "name": "stdout",
          "text": [
            "cpu\n"
          ]
        }
      ],
      "source": [
        "torch.manual_seed(12345)\n",
        "dtype = torch.float\n",
        "device = torch.device(\"cuda\" if torch.cuda.is_available() else \"cpu\")\n",
        "print(device)"
      ]
    },
    {
      "cell_type": "markdown",
      "metadata": {
        "id": "8vjF0RNOcb-q"
      },
      "source": [
        "# Load and Split MNIST"
      ]
    },
    {
      "cell_type": "markdown",
      "metadata": {
        "id": "hUKZOteHdDVl"
      },
      "source": [
        "Defining transform before downloading MNIST in a local folder"
      ]
    },
    {
      "cell_type": "code",
      "execution_count": null,
      "metadata": {
        "id": "NOs2pM3BcbFn",
        "colab": {
          "base_uri": "https://localhost:8080/"
        },
        "outputId": "92cd391b-6b16-4e17-b2b9-8e6806c68b0b"
      },
      "outputs": [
        {
          "output_type": "stream",
          "name": "stdout",
          "text": [
            "Downloading http://yann.lecun.com/exdb/mnist/train-images-idx3-ubyte.gz\n",
            "Downloading http://yann.lecun.com/exdb/mnist/train-images-idx3-ubyte.gz to /data/mnist/MNIST/raw/train-images-idx3-ubyte.gz\n"
          ]
        },
        {
          "output_type": "stream",
          "name": "stderr",
          "text": [
            "100%|██████████| 9912422/9912422 [00:00<00:00, 98987903.19it/s]\n"
          ]
        },
        {
          "output_type": "stream",
          "name": "stdout",
          "text": [
            "Extracting /data/mnist/MNIST/raw/train-images-idx3-ubyte.gz to /data/mnist/MNIST/raw\n",
            "\n",
            "Downloading http://yann.lecun.com/exdb/mnist/train-labels-idx1-ubyte.gz\n",
            "Downloading http://yann.lecun.com/exdb/mnist/train-labels-idx1-ubyte.gz to /data/mnist/MNIST/raw/train-labels-idx1-ubyte.gz\n"
          ]
        },
        {
          "output_type": "stream",
          "name": "stderr",
          "text": [
            "100%|██████████| 28881/28881 [00:00<00:00, 77156492.88it/s]"
          ]
        },
        {
          "output_type": "stream",
          "name": "stdout",
          "text": [
            "Extracting /data/mnist/MNIST/raw/train-labels-idx1-ubyte.gz to /data/mnist/MNIST/raw\n",
            "\n",
            "Downloading http://yann.lecun.com/exdb/mnist/t10k-images-idx3-ubyte.gz\n",
            "Downloading http://yann.lecun.com/exdb/mnist/t10k-images-idx3-ubyte.gz to /data/mnist/MNIST/raw/t10k-images-idx3-ubyte.gz\n"
          ]
        },
        {
          "output_type": "stream",
          "name": "stderr",
          "text": [
            "\n",
            "100%|██████████| 1648877/1648877 [00:00<00:00, 24940735.60it/s]\n"
          ]
        },
        {
          "output_type": "stream",
          "name": "stdout",
          "text": [
            "Extracting /data/mnist/MNIST/raw/t10k-images-idx3-ubyte.gz to /data/mnist/MNIST/raw\n",
            "\n",
            "Downloading http://yann.lecun.com/exdb/mnist/t10k-labels-idx1-ubyte.gz\n",
            "Downloading http://yann.lecun.com/exdb/mnist/t10k-labels-idx1-ubyte.gz to /data/mnist/MNIST/raw/t10k-labels-idx1-ubyte.gz\n"
          ]
        },
        {
          "output_type": "stream",
          "name": "stderr",
          "text": [
            "100%|██████████| 4542/4542 [00:00<00:00, 9948056.80it/s]"
          ]
        },
        {
          "output_type": "stream",
          "name": "stdout",
          "text": [
            "Extracting /data/mnist/MNIST/raw/t10k-labels-idx1-ubyte.gz to /data/mnist/MNIST/raw\n",
            "\n"
          ]
        },
        {
          "output_type": "stream",
          "name": "stderr",
          "text": [
            "\n"
          ]
        }
      ],
      "source": [
        "batch_size = 128\n",
        "data_path='/data/mnist'\n",
        "\n",
        "\n",
        "transform = transforms.Compose([\n",
        "            transforms.Resize((28, 28)),\n",
        "            transforms.Grayscale(),\n",
        "            transforms.ToTensor(),\n",
        "            transforms.Normalize((0,), (1,))])\n",
        "\n",
        "mnist_train = datasets.MNIST(data_path, train=True, download=True, transform=transform)\n",
        "mnist_test = datasets.MNIST(data_path, train=False, download=True, transform=transform)\n",
        "\n",
        "train_loader = DataLoader(mnist_train, batch_size=batch_size, shuffle=True, drop_last=True)\n",
        "test_loader = DataLoader(mnist_test, batch_size=batch_size, shuffle=True, drop_last=True)"
      ]
    },
    {
      "cell_type": "code",
      "execution_count": null,
      "metadata": {
        "colab": {
          "base_uri": "https://localhost:8080/"
        },
        "id": "YQXX5tdmmOb7",
        "outputId": "cd254206-ed66-45ce-f7ce-d6114e2cc2bf"
      },
      "outputs": [
        {
          "output_type": "execute_result",
          "data": {
            "text/plain": [
              "Dataset MNIST\n",
              "    Number of datapoints: 10000\n",
              "    Root location: /data/mnist\n",
              "    Split: Test\n",
              "    StandardTransform\n",
              "Transform: Compose(\n",
              "               Resize(size=(28, 28), interpolation=bilinear, max_size=None, antialias=warn)\n",
              "               Grayscale(num_output_channels=1)\n",
              "               ToTensor()\n",
              "               Normalize(mean=(0,), std=(1,))\n",
              "           )"
            ]
          },
          "metadata": {},
          "execution_count": 8
        }
      ],
      "source": [
        "mnist_test"
      ]
    },
    {
      "cell_type": "markdown",
      "metadata": {
        "id": "HuRt7S51d61R"
      },
      "source": [
        "# Single-Objective SNN Optimization"
      ]
    },
    {
      "cell_type": "code",
      "execution_count": null,
      "metadata": {
        "id": "zdJd1a7qeD7_"
      },
      "outputs": [],
      "source": [
        "class SNN(nn.Module):\n",
        "\n",
        "    def __init__(self):\n",
        "        super().__init__()\n",
        "\n",
        "        self.fc1 = nn.Linear(num_inputs, num_hidden)\n",
        "        self.lif1 = snn.Leaky(beta=beta)\n",
        "        self.fc2 = nn.Linear(num_hidden, num_outputs)\n",
        "        self.lif2 = snn.Leaky(beta=beta)\n",
        "\n",
        "    def forward(self, x):\n",
        "\n",
        "        # Initialize hidden states at t=0\n",
        "        mem1 = self.lif1.init_leaky()\n",
        "        mem2 = self.lif2.init_leaky()\n",
        "        \n",
        "        # Record the final layer\n",
        "        spk2_rec = []\n",
        "        mem2_rec = []\n",
        "\n",
        "        for step in range(num_steps):\n",
        "            cur1 = self.fc1(x)\n",
        "            spk1, mem1 = self.lif1(cur1, mem1)\n",
        "            cur2 = self.fc2(spk1)\n",
        "            spk2, mem2 = self.lif2(cur2, mem2)\n",
        "            spk2_rec.append(spk2)\n",
        "            mem2_rec.append(mem2)\n",
        "\n",
        "        return torch.stack(spk2_rec, dim=0), torch.stack(mem2_rec, dim=0)"
      ]
    },
    {
      "cell_type": "code",
      "execution_count": null,
      "metadata": {
        "id": "ilCME5ccnu0G"
      },
      "outputs": [],
      "source": [
        "# Network Architecture\n",
        "num_inputs = 28*28\n",
        "num_hidden = 1000\n",
        "num_outputs = 10\n",
        "\n",
        "# Temporal Dynamics\n",
        "num_epochs = 1\n",
        "num_steps = 25\n",
        "beta = 0.95"
      ]
    },
    {
      "cell_type": "code",
      "execution_count": null,
      "metadata": {
        "id": "1_HMAm0TfDFv"
      },
      "outputs": [],
      "source": [
        "def train_evaluate(parameterization):\n",
        "    model = SNN()\n",
        "    model.to(device)\n",
        "\n",
        "    loss = nn.CrossEntropyLoss()\n",
        "    optimizer = optim.Adam(model.parameters(),\n",
        "                           lr=parameterization.get(\"lr\", 0.001),\n",
        "                           betas=(parameterization.get(\"beta1\", 0.9), 0.999))\n",
        "    \n",
        "    def print_batch_accuracy(data, targets, train=False):\n",
        "        output, _ = model(data.view(batch_size, -1))\n",
        "        _, idx = output.sum(dim=0).max(1)\n",
        "        acc = np.mean((targets == idx).detach().cpu().numpy())\n",
        "\n",
        "        if train:\n",
        "            print(f\"Train set accuracy for a single minibatch: {acc*100:.2f}%\")\n",
        "        else:\n",
        "            print(f\"Test set accuracy for a single minibatch: {acc*100:.2f}%\")\n",
        "\n",
        "    loss_hist = []\n",
        "    test_loss_hist = []\n",
        "    accuracy = 0\n",
        "    counter = 0\n",
        "\n",
        "    # Outer training loop\n",
        "    for epoch in range(num_epochs):\n",
        "        iter_counter = 0\n",
        "        train_batch = iter(train_loader)\n",
        "\n",
        "        # Minibatch training loop\n",
        "        for data, targets in train_batch:\n",
        "            data = data.to(device)\n",
        "            targets = targets.to(device)\n",
        "\n",
        "            # forward pass\n",
        "            model.train()\n",
        "            spk_rec, mem_rec = model(data.view(batch_size, -1))\n",
        "\n",
        "            # initialize the loss & sum over time\n",
        "            loss_val = torch.zeros((1), dtype=dtype, device=device)\n",
        "            for step in range(num_steps):\n",
        "                loss_val += loss(mem_rec[step], targets)\n",
        "\n",
        "            # Gradient calculation + weight update\n",
        "            optimizer.zero_grad()\n",
        "            loss_val.backward()\n",
        "            optimizer.step()\n",
        "\n",
        "            # Store loss history for future plotting\n",
        "            loss_hist.append(loss_val.item())\n",
        "\n",
        "            # Test set\n",
        "            with torch.no_grad():\n",
        "                model.eval()\n",
        "                test_data, test_targets = next(iter(test_loader))\n",
        "                test_data = test_data.to(device)\n",
        "                test_targets = test_targets.to(device)\n",
        "\n",
        "                # Test set forward pass\n",
        "                test_spk, test_mem = model(test_data.view(batch_size, -1))\n",
        "                _, idx = test_spk.sum(dim=0).max(1)\n",
        "                \n",
        "                actual_acc = np.mean((test_targets == idx).detach().cpu().numpy())\n",
        "\n",
        "                if actual_acc > accuracy:\n",
        "                  accuracy = actual_acc\n",
        "\n",
        "                # Test set loss\n",
        "                test_loss = torch.zeros((1), dtype=dtype, device=device)\n",
        "                for step in range(num_steps):\n",
        "                    test_loss += loss(test_mem[step], test_targets)\n",
        "                test_loss_hist.append(test_loss.item())\n",
        "\n",
        "                # Print train/test loss/accuracy\n",
        "                \"\"\"\n",
        "                if counter % 50 == 0:\n",
        "                    print(f\"Epoch {epoch}, Iteration {iter_counter}\")\n",
        "                    print(f\"Train Set Loss: {loss_hist[counter]:.2f}\")\n",
        "                    print(f\"Test Set Loss: {test_loss_hist[counter]:.2f}\")\n",
        "                    print_batch_accuracy(data, targets, train=True)\n",
        "                    print_batch_accuracy(test_data, test_targets, train=False)\n",
        "                    print(\"\\n\")\n",
        "                \"\"\"\n",
        "                counter += 1\n",
        "                iter_counter +=1\n",
        "    return accuracy"
      ]
    },
    {
      "cell_type": "code",
      "execution_count": null,
      "metadata": {
        "colab": {
          "base_uri": "https://localhost:8080/"
        },
        "id": "OjNg2FKUl61a",
        "outputId": "700e741a-6e31-48b9-c5eb-7d4bbb8bb6c3"
      },
      "outputs": [
        {
          "output_type": "stream",
          "name": "stderr",
          "text": [
            "[INFO 05-09 14:30:58] ax.service.utils.instantiation: Created search space: SearchSpace(parameters=[RangeParameter(name='lr', parameter_type=FLOAT, range=[1e-06, 0.4], log_scale=True), RangeParameter(name='beta1', parameter_type=FLOAT, range=[0.5, 0.999])], parameter_constraints=[]).\n",
            "[INFO 05-09 14:30:58] ax.modelbridge.dispatch_utils: Using Models.GPEI since there are more ordered parameters than there are categories for the unordered categorical parameters.\n",
            "[INFO 05-09 14:30:58] ax.modelbridge.dispatch_utils: Calculating the number of remaining initialization trials based on num_initialization_trials=None max_initialization_trials=None num_tunable_parameters=2 num_trials=None use_batch_trials=False\n",
            "[INFO 05-09 14:30:58] ax.modelbridge.dispatch_utils: calculated num_initialization_trials=5\n",
            "[INFO 05-09 14:30:58] ax.modelbridge.dispatch_utils: num_completed_initialization_trials=0 num_remaining_initialization_trials=5\n",
            "[INFO 05-09 14:30:58] ax.modelbridge.dispatch_utils: Using Bayesian Optimization generation strategy: GenerationStrategy(name='Sobol+GPEI', steps=[Sobol for 5 trials, GPEI for subsequent trials]). Iterations after 5 will take longer to generate due to model-fitting.\n",
            "[INFO 05-09 14:30:58] ax.service.managed_loop: Started full optimization with 20 steps.\n",
            "[INFO 05-09 14:30:58] ax.service.managed_loop: Running optimization trial 1...\n",
            "[INFO 05-09 14:33:43] ax.service.managed_loop: Running optimization trial 2...\n",
            "[INFO 05-09 14:36:27] ax.service.managed_loop: Running optimization trial 3...\n",
            "[INFO 05-09 14:39:13] ax.service.managed_loop: Running optimization trial 4...\n",
            "[INFO 05-09 14:42:01] ax.service.managed_loop: Running optimization trial 5...\n",
            "[INFO 05-09 14:44:47] ax.service.managed_loop: Running optimization trial 6...\n",
            "[INFO 05-09 14:47:34] ax.service.managed_loop: Running optimization trial 7...\n",
            "[INFO 05-09 14:50:22] ax.service.managed_loop: Running optimization trial 8...\n",
            "[INFO 05-09 14:53:10] ax.service.managed_loop: Running optimization trial 9...\n",
            "[INFO 05-09 14:55:57] ax.service.managed_loop: Running optimization trial 10...\n",
            "[INFO 05-09 14:58:46] ax.service.managed_loop: Running optimization trial 11...\n",
            "[INFO 05-09 15:01:33] ax.service.managed_loop: Running optimization trial 12...\n",
            "[INFO 05-09 15:04:21] ax.service.managed_loop: Running optimization trial 13...\n",
            "[INFO 05-09 15:07:07] ax.service.managed_loop: Running optimization trial 14...\n",
            "[INFO 05-09 15:09:57] ax.service.managed_loop: Running optimization trial 15...\n",
            "[INFO 05-09 15:12:44] ax.service.managed_loop: Running optimization trial 16...\n",
            "[INFO 05-09 15:15:31] ax.service.managed_loop: Running optimization trial 17...\n",
            "[INFO 05-09 15:18:18] ax.service.managed_loop: Running optimization trial 18...\n",
            "[INFO 05-09 15:21:05] ax.service.managed_loop: Running optimization trial 19...\n",
            "[INFO 05-09 15:23:53] ax.service.managed_loop: Running optimization trial 20...\n"
          ]
        }
      ],
      "source": [
        "best_parameters, values, experiment, model = optimize(\n",
        "    parameters=[\n",
        "        {\"name\": \"lr\", \"type\": \"range\", \"bounds\": [1e-6, 0.4], \"log_scale\": True, \"value_type\": 'float'},\n",
        "        {\"name\": \"beta1\", \"type\": \"range\", \"bounds\": [0.5, 0.999], \"value_type\": 'float'},\n",
        "    ],\n",
        "    evaluation_function=train_evaluate,\n",
        "    objective_name='accuracy',\n",
        "    total_trials = 20\n",
        ")"
      ]
    },
    {
      "cell_type": "code",
      "execution_count": null,
      "metadata": {
        "id": "Yfo_VtNJ2y13",
        "colab": {
          "base_uri": "https://localhost:8080/"
        },
        "outputId": "2b047cee-9679-4e34-c837-760d2d425dd4"
      },
      "outputs": [
        {
          "output_type": "execute_result",
          "data": {
            "text/plain": [
              "{'lr': 0.0024901629078190285, 'beta1': 0.8972629127828733}"
            ]
          },
          "metadata": {},
          "execution_count": 77
        }
      ],
      "source": [
        "best_parameters"
      ]
    },
    {
      "cell_type": "code",
      "source": [
        "values"
      ],
      "metadata": {
        "colab": {
          "base_uri": "https://localhost:8080/"
        },
        "id": "aAHKCrXqLpBz",
        "outputId": "aa0b84e9-c720-4748-9652-aa7a36e2d850"
      },
      "execution_count": null,
      "outputs": [
        {
          "output_type": "execute_result",
          "data": {
            "text/plain": [
              "({'accuracy': 0.9943091213245984},\n",
              " {'accuracy': {'accuracy': 2.0439282400765623e-05}})"
            ]
          },
          "metadata": {},
          "execution_count": 78
        }
      ]
    },
    {
      "cell_type": "code",
      "source": [
        "experiment"
      ],
      "metadata": {
        "colab": {
          "base_uri": "https://localhost:8080/"
        },
        "id": "VI0jUjJJLqiT",
        "outputId": "b992366c-a1b2-4330-f2bc-1d913f54280d"
      },
      "execution_count": null,
      "outputs": [
        {
          "output_type": "execute_result",
          "data": {
            "text/plain": [
              "Experiment(None)"
            ]
          },
          "metadata": {},
          "execution_count": 79
        }
      ]
    },
    {
      "cell_type": "code",
      "source": [
        "model"
      ],
      "metadata": {
        "colab": {
          "base_uri": "https://localhost:8080/"
        },
        "id": "px1uw_zTLvpO",
        "outputId": "3f8c189e-99b4-4040-8864-cfc50ddb56b5"
      },
      "execution_count": null,
      "outputs": [
        {
          "output_type": "execute_result",
          "data": {
            "text/plain": [
              "<ax.modelbridge.torch.TorchModelBridge at 0x7f075e30fa60>"
            ]
          },
          "metadata": {},
          "execution_count": 80
        }
      ]
    },
    {
      "cell_type": "markdown",
      "source": [
        "# Multi-Objective SNN Optimization"
      ],
      "metadata": {
        "id": "fEKWafLnmAn2"
      }
    },
    {
      "cell_type": "code",
      "source": [
        "from ax.service.ax_client import AxClient\n",
        "from ax.service.utils.instantiation import ObjectiveProperties\n",
        "\n",
        "import torch\n",
        "\n",
        "from ax.utils.notebook.plotting import render, init_notebook_plotting\n",
        "from ax.plot.pareto_utils import compute_posterior_pareto_frontier\n",
        "from ax.plot.pareto_frontier import plot_pareto_frontier\n",
        "\n",
        "import time"
      ],
      "metadata": {
        "colab": {
          "base_uri": "https://localhost:8080/"
        },
        "id": "3-y-O_gTm4Eo",
        "outputId": "3f8f052b-e32c-4e78-c6ff-4836b66c1c32"
      },
      "execution_count": null,
      "outputs": [
        {
          "output_type": "stream",
          "name": "stderr",
          "text": [
            "[WARNING 05-22 13:47:49] ax.service.utils.with_db_settings_base: Ax currently requires a sqlalchemy version below 2.0. This will be addressed in a future release. Disabling SQL storage in Ax for now, if you would like to use SQL storage please install Ax with mysql extras via `pip install ax-platform[mysql]`.\n"
          ]
        }
      ]
    },
    {
      "cell_type": "code",
      "source": [
        "ax_client = AxClient()\n",
        "ax_client.create_experiment(\n",
        "    name=\"snn_experiment\",\n",
        "    parameters=[\n",
        "        {\"name\": \"lr\", \"type\": \"range\", \"bounds\": [1e-6, 0.4], \"log_scale\": True, \"value_type\": 'float'},\n",
        "        {\"name\": \"beta1\", \"type\": \"range\", \"bounds\": [0.5, 0.999], \"value_type\": 'float'},\n",
        "    ],\n",
        "    objectives={\n",
        "        \"accuracy\": ObjectiveProperties(minimize=False), \n",
        "        \"time\": ObjectiveProperties(minimize=True)\n",
        "    },\n",
        "    overwrite_existing_experiment=True,\n",
        "    is_test=True,\n",
        ")"
      ],
      "metadata": {
        "id": "Hz0bsU_ELyWy",
        "colab": {
          "base_uri": "https://localhost:8080/"
        },
        "outputId": "e3ec1dd6-a326-44cf-80ad-a8855b1058dc"
      },
      "execution_count": null,
      "outputs": [
        {
          "output_type": "stream",
          "name": "stderr",
          "text": [
            "[INFO 05-22 14:21:23] ax.service.ax_client: Starting optimization with verbose logging. To disable logging, set the `verbose_logging` argument to `False`. Note that float values in the logs are rounded to 6 decimal points.\n",
            "[INFO 05-22 14:21:23] ax.service.utils.instantiation: Due to non-specification, we will use the heuristic for selecting objective thresholds.\n",
            "[INFO 05-22 14:21:23] ax.service.utils.instantiation: Created search space: SearchSpace(parameters=[RangeParameter(name='lr', parameter_type=FLOAT, range=[1e-06, 0.4], log_scale=True), RangeParameter(name='beta1', parameter_type=FLOAT, range=[0.5, 0.999])], parameter_constraints=[]).\n",
            "[INFO 05-22 14:21:23] ax.core.experiment: The is_test flag has been set to True. This flag is meant purely for development and integration testing purposes. If you are running a live experiment, please set this flag to False\n",
            "[INFO 05-22 14:21:23] ax.modelbridge.dispatch_utils: Using Models.MOO since there are more ordered parameters than there are categories for the unordered categorical parameters.\n",
            "[INFO 05-22 14:21:23] ax.modelbridge.dispatch_utils: Calculating the number of remaining initialization trials based on num_initialization_trials=None max_initialization_trials=None num_tunable_parameters=2 num_trials=None use_batch_trials=False\n",
            "[INFO 05-22 14:21:23] ax.modelbridge.dispatch_utils: calculated num_initialization_trials=5\n",
            "[INFO 05-22 14:21:23] ax.modelbridge.dispatch_utils: num_completed_initialization_trials=0 num_remaining_initialization_trials=5\n",
            "[INFO 05-22 14:21:23] ax.modelbridge.dispatch_utils: Using Bayesian Optimization generation strategy: GenerationStrategy(name='Sobol+MOO', steps=[Sobol for 5 trials, MOO for subsequent trials]). Iterations after 5 will take longer to generate due to model-fitting.\n"
          ]
        }
      ]
    },
    {
      "cell_type": "code",
      "source": [
        "def train_evaluate_multi(parameterization):\n",
        "    model = SNN()\n",
        "    model.to(device)\n",
        "\n",
        "    loss = nn.CrossEntropyLoss()\n",
        "    optimizer = optim.Adam(model.parameters(),\n",
        "                           lr=parameterization.get(\"lr\", 0.001),\n",
        "                           betas=(parameterization.get(\"beta1\", 0.9), 0.999))\n",
        "    \n",
        "    def print_batch_accuracy(data, targets, train=False):\n",
        "        output, _ = model(data.view(batch_size, -1))\n",
        "        _, idx = output.sum(dim=0).max(1)\n",
        "        acc = np.mean((targets == idx).detach().cpu().numpy())\n",
        "\n",
        "        if train:\n",
        "            print(f\"Train set accuracy for a single minibatch: {acc*100:.2f}%\")\n",
        "        else:\n",
        "            print(f\"Test set accuracy for a single minibatch: {acc*100:.2f}%\")\n",
        "\n",
        "    loss_hist = []\n",
        "    test_loss_hist = []\n",
        "    accuracy = 0\n",
        "    counter = 0\n",
        "    eval_time = []\n",
        "    cuda_eval_time = []\n",
        "\n",
        "    \"\"\"\n",
        "    # Correct way to measure elapsed time during evaluations\n",
        "    \n",
        "    # INIT LOGGERS\n",
        "    starter, ender = torch.cuda.Event(enable_timing=True), torch.cuda.Event(enable_timing=True)\n",
        "    repetitions = 300\n",
        "    timings=np.zeros((repetitions,1))\n",
        "    #GPU-WARM-UP\n",
        "    for _ in range(10):\n",
        "        _ = model(dummy_input)\n",
        "    # MEASURE PERFORMANCE\n",
        "    with torch.no_grad():\n",
        "        for rep in range(repetitions):\n",
        "            starter.record()\n",
        "            _ = model(dummy_input)\n",
        "            ender.record()\n",
        "            # WAIT FOR GPU SYNC\n",
        "            torch.cuda.synchronize()\n",
        "            curr_time = starter.elapsed_time(ender)\n",
        "            timings[rep] = curr_time\n",
        "    mean_syn = np.sum(timings) / repetitions\n",
        "    std_syn = np.std(timings)\n",
        "    print(mean_syn)\n",
        "    \"\"\"\n",
        "\n",
        "    \n",
        "\n",
        "    # Outer training loop\n",
        "    for epoch in range(num_epochs):\n",
        "        iter_counter = 0\n",
        "        train_batch = iter(train_loader)\n",
        "\n",
        "        # Minibatch training loop\n",
        "        for data, targets in train_batch:\n",
        "            data = data.to(device)\n",
        "            targets = targets.to(device)\n",
        "\n",
        "            # forward pass\n",
        "            model.train()\n",
        "            spk_rec, mem_rec = model(data.view(batch_size, -1))\n",
        "\n",
        "            # initialize the loss & sum over time\n",
        "            loss_val = torch.zeros((1), dtype=dtype, device=device)\n",
        "            for step in range(num_steps):\n",
        "                loss_val += loss(mem_rec[step], targets)\n",
        "\n",
        "            # Gradient calculation + weight update\n",
        "            optimizer.zero_grad()\n",
        "            loss_val.backward()\n",
        "            optimizer.step()\n",
        "\n",
        "            # Store loss history for future plotting\n",
        "            loss_hist.append(loss_val.item())\n",
        "\n",
        "            # Test set\n",
        "            with torch.no_grad():\n",
        "                model.eval()\n",
        "                test_data, test_targets = next(iter(test_loader))\n",
        "                test_data = test_data.to(device)\n",
        "                test_targets = test_targets.to(device)\n",
        "\n",
        "                if torch.cuda.is_available():\n",
        "                  starter, ender = torch.cuda.Event(enable_timing=True), torch.cuda.Event(enable_timing=True)\n",
        "                  #GPU-WARM-UP\n",
        "                  for _ in range(5):\n",
        "                      _ = model(test_data.view(batch_size, -1))\n",
        "                  starter.record()\n",
        "\n",
        "                else:\n",
        "                  starter = time.time()\n",
        "                # Test set forward pass\n",
        "                test_spk, test_mem = model(test_data.view(batch_size, -1))\n",
        "                if torch.cuda.is_available():\n",
        "                  ender.record()\n",
        "                  # WAIT FOR GPU SYNC\n",
        "                  torch.cuda.synchronize()\n",
        "                  curr_time = starter.elapsed_time(ender)\n",
        "                  cuda_eval_time.append(curr_time)\n",
        "                else:\n",
        "                  ender = time.time()\n",
        "                  elapsed_time = ender - starter\n",
        "                  eval_time.append(elapsed_time)\n",
        "\n",
        "                _, idx = test_spk.sum(dim=0).max(1)\n",
        "                \n",
        "                actual_acc = np.mean((test_targets == idx).detach().cpu().numpy())\n",
        "\n",
        "                if actual_acc > accuracy:\n",
        "                  accuracy = actual_acc\n",
        "\n",
        "                # Test set loss\n",
        "                test_loss = torch.zeros((1), dtype=dtype, device=device)\n",
        "                for step in range(num_steps):\n",
        "                    test_loss += loss(test_mem[step], test_targets)\n",
        "                test_loss_hist.append(test_loss.item())\n",
        "\n",
        "                # Print train/test loss/accuracy\n",
        "                \"\"\"\n",
        "                if counter % 50 == 0:\n",
        "                    print(f\"Epoch {epoch}, Iteration {iter_counter}\")\n",
        "                    print(f\"Train Set Loss: {loss_hist[counter]:.2f}\")\n",
        "                    print(f\"Test Set Loss: {test_loss_hist[counter]:.2f}\")\n",
        "                    print_batch_accuracy(data, targets, train=True)\n",
        "                    print_batch_accuracy(test_data, test_targets, train=False)\n",
        "                    print(\"\\n\")\n",
        "                \"\"\"\n",
        "                counter += 1\n",
        "                iter_counter +=1\n",
        "    \n",
        "    if torch.cuda.is_available():\n",
        "      avg_time = np.mean(cuda_eval_time)\n",
        "    else:\n",
        "      avg_time = np.mean(eval_time)\n",
        "\n",
        "    return {\"accuracy\": accuracy, \"time\": avg_time}"
      ],
      "metadata": {
        "id": "oNu6v7-SnjN8"
      },
      "execution_count": null,
      "outputs": []
    },
    {
      "cell_type": "code",
      "source": [
        "for i in range(10):\n",
        "    parameters, trial_index = ax_client.get_next_trial()\n",
        "    # Local evaluation here can be replaced with deployment to external system.\n",
        "    ax_client.complete_trial(trial_index=trial_index, raw_data=train_evaluate_multi(parameters))"
      ],
      "metadata": {
        "colab": {
          "base_uri": "https://localhost:8080/",
          "height": 713
        },
        "id": "SWH6zh58vL1j",
        "outputId": "6bf359e5-6216-4dd7-f8a8-3c8d0414463c"
      },
      "execution_count": null,
      "outputs": [
        {
          "output_type": "stream",
          "name": "stderr",
          "text": [
            "[INFO 05-22 14:21:29] ax.service.ax_client: Generated new trial 0 with parameters {'lr': 0.000781, 'beta1': 0.970662}.\n",
            "[INFO 05-22 14:26:01] ax.service.ax_client: Completed trial 0 with data: {'accuracy': (0.992188, None), 'time': (0.160135, None)}.\n",
            "[INFO 05-22 14:26:01] ax.service.ax_client: Generated new trial 1 with parameters {'lr': 0.009295, 'beta1': 0.920814}.\n",
            "[INFO 05-22 14:30:33] ax.service.ax_client: Completed trial 1 with data: {'accuracy': (1.0, None), 'time': (0.158482, None)}.\n",
            "[INFO 05-22 14:30:33] ax.service.ax_client: Generated new trial 2 with parameters {'lr': 0.093229, 'beta1': 0.623166}.\n",
            "[INFO 05-22 14:38:52] ax.service.ax_client: Completed trial 2 with data: {'accuracy': (0.25, None), 'time': (0.16159, None)}.\n",
            "[INFO 05-22 14:38:52] ax.service.ax_client: Generated new trial 3 with parameters {'lr': 4e-06, 'beta1': 0.935298}.\n",
            "[INFO 05-22 14:43:27] ax.service.ax_client: Completed trial 3 with data: {'accuracy': (0.828125, None), 'time': (0.160559, None)}.\n",
            "[INFO 05-22 14:43:27] ax.service.ax_client: Generated new trial 4 with parameters {'lr': 0.013926, 'beta1': 0.84592}.\n",
            "[INFO 05-22 14:48:03] ax.service.ax_client: Completed trial 4 with data: {'accuracy': (0.976562, None), 'time': (0.161713, None)}.\n",
            "/usr/local/lib/python3.10/dist-packages/ax/modelbridge/transforms/winsorize.py:275: UserWarning:\n",
            "\n",
            "Automatic winsorization isn't supported for an objective in `MultiObjective` without objective thresholds. Specify the winsorization settings manually if you want to winsorize metric accuracy.\n",
            "\n",
            "/usr/local/lib/python3.10/dist-packages/ax/modelbridge/transforms/winsorize.py:275: UserWarning:\n",
            "\n",
            "Automatic winsorization isn't supported for an objective in `MultiObjective` without objective thresholds. Specify the winsorization settings manually if you want to winsorize metric time.\n",
            "\n",
            "[INFO 05-22 14:48:04] ax.service.ax_client: Generated new trial 5 with parameters {'lr': 0.123438, 'beta1': 0.999}.\n"
          ]
        },
        {
          "output_type": "error",
          "ename": "KeyboardInterrupt",
          "evalue": "ignored",
          "traceback": [
            "\u001b[0;31m---------------------------------------------------------------------------\u001b[0m",
            "\u001b[0;31mKeyboardInterrupt\u001b[0m                         Traceback (most recent call last)",
            "\u001b[0;32m<ipython-input-21-5ab27f33a7b5>\u001b[0m in \u001b[0;36m<cell line: 1>\u001b[0;34m()\u001b[0m\n\u001b[1;32m      2\u001b[0m     \u001b[0mparameters\u001b[0m\u001b[0;34m,\u001b[0m \u001b[0mtrial_index\u001b[0m \u001b[0;34m=\u001b[0m \u001b[0max_client\u001b[0m\u001b[0;34m.\u001b[0m\u001b[0mget_next_trial\u001b[0m\u001b[0;34m(\u001b[0m\u001b[0;34m)\u001b[0m\u001b[0;34m\u001b[0m\u001b[0;34m\u001b[0m\u001b[0m\n\u001b[1;32m      3\u001b[0m     \u001b[0;31m# Local evaluation here can be replaced with deployment to external system.\u001b[0m\u001b[0;34m\u001b[0m\u001b[0;34m\u001b[0m\u001b[0m\n\u001b[0;32m----> 4\u001b[0;31m     \u001b[0max_client\u001b[0m\u001b[0;34m.\u001b[0m\u001b[0mcomplete_trial\u001b[0m\u001b[0;34m(\u001b[0m\u001b[0mtrial_index\u001b[0m\u001b[0;34m=\u001b[0m\u001b[0mtrial_index\u001b[0m\u001b[0;34m,\u001b[0m \u001b[0mraw_data\u001b[0m\u001b[0;34m=\u001b[0m\u001b[0mtrain_evaluate_multi\u001b[0m\u001b[0;34m(\u001b[0m\u001b[0mparameters\u001b[0m\u001b[0;34m)\u001b[0m\u001b[0;34m)\u001b[0m\u001b[0;34m\u001b[0m\u001b[0;34m\u001b[0m\u001b[0m\n\u001b[0m",
            "\u001b[0;32m<ipython-input-13-5c89bf8b7f8a>\u001b[0m in \u001b[0;36mtrain_evaluate_multi\u001b[0;34m(parameterization)\u001b[0m\n\u001b[1;32m     73\u001b[0m             \u001b[0;31m# Gradient calculation + weight update\u001b[0m\u001b[0;34m\u001b[0m\u001b[0;34m\u001b[0m\u001b[0m\n\u001b[1;32m     74\u001b[0m             \u001b[0moptimizer\u001b[0m\u001b[0;34m.\u001b[0m\u001b[0mzero_grad\u001b[0m\u001b[0;34m(\u001b[0m\u001b[0;34m)\u001b[0m\u001b[0;34m\u001b[0m\u001b[0;34m\u001b[0m\u001b[0m\n\u001b[0;32m---> 75\u001b[0;31m             \u001b[0mloss_val\u001b[0m\u001b[0;34m.\u001b[0m\u001b[0mbackward\u001b[0m\u001b[0;34m(\u001b[0m\u001b[0;34m)\u001b[0m\u001b[0;34m\u001b[0m\u001b[0;34m\u001b[0m\u001b[0m\n\u001b[0m\u001b[1;32m     76\u001b[0m             \u001b[0moptimizer\u001b[0m\u001b[0;34m.\u001b[0m\u001b[0mstep\u001b[0m\u001b[0;34m(\u001b[0m\u001b[0;34m)\u001b[0m\u001b[0;34m\u001b[0m\u001b[0;34m\u001b[0m\u001b[0m\n\u001b[1;32m     77\u001b[0m \u001b[0;34m\u001b[0m\u001b[0m\n",
            "\u001b[0;32m/usr/local/lib/python3.10/dist-packages/torch/_tensor.py\u001b[0m in \u001b[0;36mbackward\u001b[0;34m(self, gradient, retain_graph, create_graph, inputs)\u001b[0m\n\u001b[1;32m    485\u001b[0m                 \u001b[0minputs\u001b[0m\u001b[0;34m=\u001b[0m\u001b[0minputs\u001b[0m\u001b[0;34m,\u001b[0m\u001b[0;34m\u001b[0m\u001b[0;34m\u001b[0m\u001b[0m\n\u001b[1;32m    486\u001b[0m             )\n\u001b[0;32m--> 487\u001b[0;31m         torch.autograd.backward(\n\u001b[0m\u001b[1;32m    488\u001b[0m             \u001b[0mself\u001b[0m\u001b[0;34m,\u001b[0m \u001b[0mgradient\u001b[0m\u001b[0;34m,\u001b[0m \u001b[0mretain_graph\u001b[0m\u001b[0;34m,\u001b[0m \u001b[0mcreate_graph\u001b[0m\u001b[0;34m,\u001b[0m \u001b[0minputs\u001b[0m\u001b[0;34m=\u001b[0m\u001b[0minputs\u001b[0m\u001b[0;34m\u001b[0m\u001b[0;34m\u001b[0m\u001b[0m\n\u001b[1;32m    489\u001b[0m         )\n",
            "\u001b[0;32m/usr/local/lib/python3.10/dist-packages/torch/autograd/__init__.py\u001b[0m in \u001b[0;36mbackward\u001b[0;34m(tensors, grad_tensors, retain_graph, create_graph, grad_variables, inputs)\u001b[0m\n\u001b[1;32m    198\u001b[0m     \u001b[0;31m# some Python versions print out the first line of a multi-line function\u001b[0m\u001b[0;34m\u001b[0m\u001b[0;34m\u001b[0m\u001b[0m\n\u001b[1;32m    199\u001b[0m     \u001b[0;31m# calls in the traceback and some print out the last line\u001b[0m\u001b[0;34m\u001b[0m\u001b[0;34m\u001b[0m\u001b[0m\n\u001b[0;32m--> 200\u001b[0;31m     Variable._execution_engine.run_backward(  # Calls into the C++ engine to run the backward pass\n\u001b[0m\u001b[1;32m    201\u001b[0m         \u001b[0mtensors\u001b[0m\u001b[0;34m,\u001b[0m \u001b[0mgrad_tensors_\u001b[0m\u001b[0;34m,\u001b[0m \u001b[0mretain_graph\u001b[0m\u001b[0;34m,\u001b[0m \u001b[0mcreate_graph\u001b[0m\u001b[0;34m,\u001b[0m \u001b[0minputs\u001b[0m\u001b[0;34m,\u001b[0m\u001b[0;34m\u001b[0m\u001b[0;34m\u001b[0m\u001b[0m\n\u001b[1;32m    202\u001b[0m         allow_unreachable=True, accumulate_grad=True)  # Calls into the C++ engine to run the backward pass\n",
            "\u001b[0;32m/usr/local/lib/python3.10/dist-packages/torch/autograd/function.py\u001b[0m in \u001b[0;36mapply\u001b[0;34m(self, *args)\u001b[0m\n\u001b[1;32m    262\u001b[0m \u001b[0;34m\u001b[0m\u001b[0m\n\u001b[1;32m    263\u001b[0m \u001b[0;32mclass\u001b[0m \u001b[0mBackwardCFunction\u001b[0m\u001b[0;34m(\u001b[0m\u001b[0m_C\u001b[0m\u001b[0;34m.\u001b[0m\u001b[0m_FunctionBase\u001b[0m\u001b[0;34m,\u001b[0m \u001b[0mFunctionCtx\u001b[0m\u001b[0;34m,\u001b[0m \u001b[0m_HookMixin\u001b[0m\u001b[0;34m)\u001b[0m\u001b[0;34m:\u001b[0m\u001b[0;34m\u001b[0m\u001b[0;34m\u001b[0m\u001b[0m\n\u001b[0;32m--> 264\u001b[0;31m     \u001b[0;32mdef\u001b[0m \u001b[0mapply\u001b[0m\u001b[0;34m(\u001b[0m\u001b[0mself\u001b[0m\u001b[0;34m,\u001b[0m \u001b[0;34m*\u001b[0m\u001b[0margs\u001b[0m\u001b[0;34m)\u001b[0m\u001b[0;34m:\u001b[0m\u001b[0;34m\u001b[0m\u001b[0;34m\u001b[0m\u001b[0m\n\u001b[0m\u001b[1;32m    265\u001b[0m         \u001b[0;31m# _forward_cls is defined by derived class\u001b[0m\u001b[0;34m\u001b[0m\u001b[0;34m\u001b[0m\u001b[0m\n\u001b[1;32m    266\u001b[0m         \u001b[0;31m# The user should define either backward or vjp but never both.\u001b[0m\u001b[0;34m\u001b[0m\u001b[0;34m\u001b[0m\u001b[0m\n",
            "\u001b[0;31mKeyboardInterrupt\u001b[0m: "
          ]
        }
      ]
    },
    {
      "cell_type": "code",
      "source": [
        "objectives = ax_client.experiment.optimization_config.objective.objectives\n",
        "frontier = compute_posterior_pareto_frontier(\n",
        "    experiment=ax_client.experiment,\n",
        "    data=ax_client.experiment.fetch_data(),\n",
        "    primary_objective=objectives[1].metric,\n",
        "    secondary_objective=objectives[0].metric,\n",
        "    absolute_metrics=[\"accuracy\", \"time\"],\n",
        "    num_points=100,\n",
        ")\n",
        "render(plot_pareto_frontier(frontier, CI_level=0.90)) "
      ],
      "metadata": {
        "colab": {
          "base_uri": "https://localhost:8080/",
          "height": 517
        },
        "id": "jC9Ilw19vd9B",
        "outputId": "01481be4-51fa-4ce7-9d46-87e73a6d1a68"
      },
      "execution_count": null,
      "outputs": [
        {
          "output_type": "display_data",
          "data": {
            "text/html": [
              "<html>\n",
              "<head><meta charset=\"utf-8\" /></head>\n",
              "<body>\n",
              "    <div>            <script src=\"https://cdnjs.cloudflare.com/ajax/libs/mathjax/2.7.5/MathJax.js?config=TeX-AMS-MML_SVG\"></script><script type=\"text/javascript\">if (window.MathJax && window.MathJax.Hub && window.MathJax.Hub.Config) {window.MathJax.Hub.Config({SVG: {font: \"STIX-Web\"}});}</script>                <script type=\"text/javascript\">window.PlotlyConfig = {MathJaxConfig: 'local'};</script>\n",
              "        <script src=\"https://cdn.plot.ly/plotly-2.18.2.min.js\"></script>                <div id=\"2d3ee1b1-ed04-44dc-8735-4070582021c3\" class=\"plotly-graph-div\" style=\"height:500px; width:750px;\"></div>            <script type=\"text/javascript\">                                    window.PLOTLYENV=window.PLOTLYENV || {};                                    if (document.getElementById(\"2d3ee1b1-ed04-44dc-8735-4070582021c3\")) {                    Plotly.newPlot(                        \"2d3ee1b1-ed04-44dc-8735-4070582021c3\",                        [{\"error_x\":{\"array\":[0.05034105316657668,0.049720765294519347,0.04965736761408178,0.04979306650295801,0.049455381603754664,0.04747700234190965,0.05024928512528238,0.03625427240333312,0.04915839184265624,0.04985202733808238,0.0496109218917903,0.03380762100605559,0.04728191828176679,0.040985625024158465,0.04460292499298197,0.04511155478186324,0.048154509161235134,0.05006275771711534,0.03405209471019272,0.0340993791325103,0.04824617780795407,0.04862558556393346,0.03531600298444755,0.047838978434004704,0.034520899019969874,0.04374293364298382,0.03983790773190971,0.04783098113494235,0.05043350311490451,0.04022292766432081,0.041428735578122426,0.04884430211377046,0.04608652716996146,0.04056577241756965,0.04900134467656333,0.03947001826741729,0.03293747805348445,0.05032916679571348,0.03394682150884652,0.03844822389906103,0.040829621873044855,0.04885029480966923,0.04097699441919148,0.03305385914946805,0.044861676615214,0.03778698222175156,0.03846059992653936,0.03468168868702726,0.03331138716507952,0.04739787319493489,0.03912703196675609,0.050119555990113855,0.03489287898337376,0.03976020323208423,0.03430511245512084,0.03386166498069128,0.03324946328029839,0.035522638544685944,0.04653529076840288,0.0333768489970274,0.033589838865764964,0.03356511554239784,0.03458947955495885,0.05014491469346671,0.03402955557965233,0.03899106251990409,0.04851607802111734,0.0330281075222132,0.034258501264945646,0.03313761950695084,0.034411225955944334,0.03851494979722407,0.04937711594785686,0.03297517848994161,0.03580222360343833,0.03364072472041102,0.03405376094018931,0.03377113438577526,0.03296609217907124,0.03431211599951697,0.03418060923149719,0.04498752526660875,0.03350358410431908,0.0339063097204257,0.03302502567860214,0.040732706479102404,0.03436588308079652,0.03429634756610013,0.045389890626068095,0.034050374732959056,0.033423421122598544,0.03406743079772642,0.034119444431843025,0.0341241756826686,0.034009948338506846,0.03446527053590624,0.034164027169891045,0.03438167733684399,0.034377223792622875,0.03450698677207252],\"color\":\"rgba(128,177,211,0.4)\",\"thickness\":2,\"type\":\"data\"},\"error_y\":{\"array\":[0.003704208884724747,0.0037002028947475114,0.0036997210279160293,0.003700632544714905,0.0036984411085330764,0.003685396140626029,0.003703624522904805,0.0036144454447768885,0.0036963938099654507,0.0037009884881395875,0.003699431127063638,0.0035959914343848187,0.0036842451162748696,0.003645029532153772,0.0036678199244415985,0.0036705942960538972,0.003689780574287438,0.0037023666664654344,0.003583259948826547,0.0035834497135127604,0.003690591677821962,0.0036929798038452936,0.0036079318114054927,0.003687914477691293,0.003601965520165234,0.0036620636538188373,0.003637969686593427,0.00368785403462493,0.003704814056433809,0.0036402759404456937,0.0036477848191471874,0.0036943221032619497,0.0036767915863610964,0.003642611934605207,0.003695417964466428,0.0036356679740702333,0.003584893131435998,0.0037041197073721453,0.0035971541388190374,0.0036288676973961547,0.0036440693878211526,0.0036944093607337637,0.0036447883117624743,0.0035875922336490976,0.003669172382589946,0.0036249241051119745,0.0036288761172819234,0.0036031607978684087,0.0035910257923635557,0.003684975709042846,0.0036332048340039854,0.0037029463966602194,0.0036047582262849075,0.0036374642645591697,0.00358440805130754,0.003582680537398939,0.003590189662871809,0.003609468966270857,0.003679523748553531,0.0035816788649653247,0.0035819774075229642,0.0035818993176083033,0.003602270920421341,0.0037030501861956572,0.0035831746602894886,0.0036327183417358155,0.003692266979399057,0.0035822927266300304,0.003584213319765728,0.0035818426199150525,0.0035848236336370083,0.0036295349380045154,0.003697914284606862,0.0035827537542103194,0.0036113169908319454,0.0035943834938290753,0.0035832462239785063,0.003582354879887583,0.0035828725821834308,0.0035844148493738653,0.003583852965484649,0.0036701597663707716,0.0035818453662424337,0.003582776115068124,0.0035823006930002324,0.0036431003009840452,0.0035846452179572512,0.0035843660335005234,0.003672519521512744,0.0035833199997383465,0.003581719248803361,0.0035833883667116618,0.0035835516452478863,0.0035835986882694027,0.003583125182622037,0.003585058164938276,0.003583758335454031,0.0035847008969676682,0.0035846904919364705,0.00358520721212251],\"color\":\"rgba(128,177,211,0.4)\",\"thickness\":2,\"type\":\"data\"},\"hoverinfo\":\"text\",\"legendgroup\":\"mean\",\"marker\":{\"color\":\"rgba(128,177,211,1)\"},\"mode\":\"markers\",\"name\":\"mean\",\"text\":[\"<b>Parameterization 0</b><br>accuracy: 0.979 [0.929, 1.030]<br>time: 0.154 [0.151, 0.158]<br><br><em>Parameterization:</em><br>lr: 0.0026046302730858184<br>beta1: 0.9654567487585459\",\"<b>Parameterization 1</b><br>accuracy: 0.979 [0.930, 1.029]<br>time: 0.154 [0.151, 0.158]<br><br><em>Parameterization:</em><br>lr: 0.0025898927714823883<br>beta1: 0.9653426917541056\",\"<b>Parameterization 2</b><br>accuracy: 0.979 [0.930, 1.029]<br>time: 0.154 [0.151, 0.158]<br><br><em>Parameterization:</em><br>lr: 0.002587879216139094<br>beta1: 0.9653348561749353\",\"<b>Parameterization 3</b><br>accuracy: 0.979 [0.929, 1.029]<br>time: 0.154 [0.151, 0.158]<br><br><em>Parameterization:</em><br>lr: 0.0025913673933788965<br>beta1: 0.9653579488798765\",\"<b>Parameterization 4</b><br>accuracy: 0.979 [0.930, 1.029]<br>time: 0.154 [0.151, 0.158]<br><br><em>Parameterization:</em><br>lr: 0.002583192723439709<br>beta1: 0.9652964245132225\",\"<b>Parameterization 5</b><br>accuracy: 0.98 [0.932, 1.027]<br>time: 0.154 [0.151, 0.158]<br><br><em>Parameterization:</em><br>lr: 0.0025324341654700444<br>beta1: 0.9649472062335174\",\"<b>Parameterization 6</b><br>accuracy: 0.979 [0.929, 1.029]<br>time: 0.154 [0.151, 0.158]<br><br><em>Parameterization:</em><br>lr: 0.0026025196809396868<br>beta1: 0.9654394449980223\",\"<b>Parameterization 7</b><br>accuracy: 0.982 [0.946, 1.019]<br>time: 0.154 [0.151, 0.158]<br><br><em>Parameterization:</em><br>lr: 0.0022020021260558964<br>beta1: 0.9624185822777162\",\"<b>Parameterization 8</b><br>accuracy: 0.979 [0.930, 1.029]<br>time: 0.154 [0.151, 0.158]<br><br><em>Parameterization:</em><br>lr: 0.0025751209282981733<br>beta1: 0.9652487343837454\",\"<b>Parameterization 9</b><br>accuracy: 0.979 [0.929, 1.029]<br>time: 0.154 [0.151, 0.158]<br><br><em>Parameterization:</em><br>lr: 0.0025926060533650913<br>beta1: 0.9653700919200985\",\"<b>Parameterization 10</b><br>accuracy: 0.979 [0.930, 1.029]<br>time: 0.154 [0.151, 0.158]<br><br><em>Parameterization:</em><br>lr: 0.0025868337478671703<br>beta1: 0.9653257877260677\",\"<b>Parameterization 11</b><br>accuracy: 0.983 [0.950, 1.017]<br>time: 0.154 [0.151, 0.158]<br><br><em>Parameterization:</em><br>lr: 0.0020685430011604866<br>beta1: 0.961545499701429\",\"<b>Parameterization 12</b><br>accuracy: 0.98 [0.932, 1.027]<br>time: 0.154 [0.151, 0.158]<br><br><em>Parameterization:</em><br>lr: 0.0025282504126415417<br>beta1: 0.9649050871721616\",\"<b>Parameterization 13</b><br>accuracy: 0.981 [0.940, 1.022]<br>time: 0.154 [0.151, 0.158]<br><br><em>Parameterization:</em><br>lr: 0.0023636578768465298<br>beta1: 0.9635981236110674\",\"<b>Parameterization 14</b><br>accuracy: 0.98 [0.936, 1.025]<br>time: 0.154 [0.151, 0.158]<br><br><em>Parameterization:</em><br>lr: 0.0024639677816904715<br>beta1: 0.964352046185635\",\"<b>Parameterization 15</b><br>accuracy: 0.98 [0.935, 1.025]<br>time: 0.154 [0.151, 0.158]<br><br><em>Parameterization:</em><br>lr: 0.0024739791348263804<br>beta1: 0.9644799215971906\",\"<b>Parameterization 16</b><br>accuracy: 0.98 [0.931, 1.028]<br>time: 0.154 [0.151, 0.158]<br><br><em>Parameterization:</em><br>lr: 0.002549527532108838<br>beta1: 0.9650713415282085\",\"<b>Parameterization 17</b><br>accuracy: 0.979 [0.929, 1.029]<br>time: 0.154 [0.151, 0.158]<br><br><em>Parameterization:</em><br>lr: 0.0025977397598225065<br>beta1: 0.9654079226901053\",\"<b>Parameterization 18</b><br>accuracy: 0.986 [0.952, 1.020]<br>time: 0.154 [0.151, 0.158]<br><br><em>Parameterization:</em><br>lr: 0.0017448936380659004<br>beta1: 0.9605814526675693\",\"<b>Parameterization 19</b><br>accuracy: 0.986 [0.952, 1.020]<br>time: 0.154 [0.151, 0.158]<br><br><em>Parameterization:</em><br>lr: 0.0017408298848476552<br>beta1: 0.9605897511760424\",\"<b>Parameterization 20</b><br>accuracy: 0.98 [0.931, 1.028]<br>time: 0.154 [0.151, 0.158]<br><br><em>Parameterization:</em><br>lr: 0.002553343356387633<br>beta1: 0.9650761231498599\",\"<b>Parameterization 21</b><br>accuracy: 0.98 [0.931, 1.028]<br>time: 0.154 [0.151, 0.158]<br><br><em>Parameterization:</em><br>lr: 0.0025622863764014027<br>beta1: 0.9651493469781698\",\"<b>Parameterization 22</b><br>accuracy: 0.983 [0.947, 1.018]<br>time: 0.154 [0.151, 0.158]<br><br><em>Parameterization:</em><br>lr: 0.0021603848493438366<br>beta1: 0.9621197135562625\",\"<b>Parameterization 23</b><br>accuracy: 0.98 [0.932, 1.027]<br>time: 0.154 [0.151, 0.158]<br><br><em>Parameterization:</em><br>lr: 0.0025428454009607626<br>beta1: 0.9650037457381087\",\"<b>Parameterization 24</b><br>accuracy: 0.983 [0.948, 1.017]<br>time: 0.154 [0.151, 0.158]<br><br><em>Parameterization:</em><br>lr: 0.002117675237849973<br>beta1: 0.9618397966624861\",\"<b>Parameterization 25</b><br>accuracy: 0.98 [0.937, 1.024]<br>time: 0.154 [0.151, 0.158]<br><br><em>Parameterization:</em><br>lr: 0.0024385701636325374<br>beta1: 0.9642008068858126\",\"<b>Parameterization 26</b><br>accuracy: 0.981 [0.942, 1.021]<br>time: 0.154 [0.151, 0.158]<br><br><em>Parameterization:</em><br>lr: 0.002330591604282631<br>beta1: 0.9633238803887274\",\"<b>Parameterization 27</b><br>accuracy: 0.98 [0.932, 1.027]<br>time: 0.154 [0.151, 0.158]<br><br><em>Parameterization:</em><br>lr: 0.0025425826306743893<br>beta1: 0.9650027630747795\",\"<b>Parameterization 28</b><br>accuracy: 0.979 [0.929, 1.030]<br>time: 0.154 [0.151, 0.158]<br><br><em>Parameterization:</em><br>lr: 0.002606863270206295<br>beta1: 0.9654733284125303\",\"<b>Parameterization 29</b><br>accuracy: 0.981 [0.941, 1.021]<br>time: 0.154 [0.151, 0.158]<br><br><em>Parameterization:</em><br>lr: 0.0023413032734836132<br>beta1: 0.9634227767444523\",\"<b>Parameterization 30</b><br>accuracy: 0.981 [0.940, 1.022]<br>time: 0.154 [0.151, 0.158]<br><br><em>Parameterization:</em><br>lr: 0.0023763131572936947<br>beta1: 0.9636976355688855\",\"<b>Parameterization 31</b><br>accuracy: 0.979 [0.931, 1.028]<br>time: 0.154 [0.151, 0.158]<br><br><em>Parameterization:</em><br>lr: 0.0025671653570607553<br>beta1: 0.9651933578989103\",\"<b>Parameterization 32</b><br>accuracy: 0.98 [0.934, 1.026]<br>time: 0.154 [0.151, 0.158]<br><br><em>Parameterization:</em><br>lr: 0.0024992367240434066<br>beta1: 0.9646681747381409\",\"<b>Parameterization 33</b><br>accuracy: 0.981 [0.941, 1.022]<br>time: 0.154 [0.151, 0.158]<br><br><em>Parameterization:</em><br>lr: 0.002353117331787325<br>beta1: 0.9634870642228357\",\"<b>Parameterization 34</b><br>accuracy: 0.979 [0.930, 1.028]<br>time: 0.154 [0.151, 0.158]<br><br><em>Parameterization:</em><br>lr: 0.002571565852745315<br>beta1: 0.965217813374033\",\"<b>Parameterization 35</b><br>accuracy: 0.981 [0.942, 1.021]<br>time: 0.154 [0.151, 0.158]<br><br><em>Parameterization:</em><br>lr: 0.002319353604879026<br>beta1: 0.963235019015223\",\"<b>Parameterization 36</b><br>accuracy: 0.984 [0.951, 1.017]<br>time: 0.154 [0.151, 0.158]<br><br><em>Parameterization:</em><br>lr: 0.0019352068627717588<br>beta1: 0.9609503306845992\",\"<b>Parameterization 37</b><br>accuracy: 0.979 [0.929, 1.029]<br>time: 0.154 [0.151, 0.158]<br><br><em>Parameterization:</em><br>lr: 0.0026042658965334995<br>beta1: 0.9654552060634569\",\"<b>Parameterization 38</b><br>accuracy: 0.983 [0.949, 1.017]<br>time: 0.154 [0.151, 0.158]<br><br><em>Parameterization:</em><br>lr: 0.0020782172084160837<br>beta1: 0.9616217730952921\",\"<b>Parameterization 39</b><br>accuracy: 0.982 [0.943, 1.020]<br>time: 0.154 [0.151, 0.158]<br><br><em>Parameterization:</em><br>lr: 0.0022834768682532683<br>beta1: 0.9630111858477373\",\"<b>Parameterization 40</b><br>accuracy: 0.981 [0.940, 1.022]<br>time: 0.154 [0.151, 0.158]<br><br><em>Parameterization:</em><br>lr: 0.002359237994625104<br>beta1: 0.9635618714108205\",\"<b>Parameterization 41</b><br>accuracy: 0.979 [0.931, 1.028]<br>time: 0.154 [0.151, 0.158]<br><br><em>Parameterization:</em><br>lr: 0.002567648591649567<br>beta1: 0.9651918344200232\",\"<b>Parameterization 42</b><br>accuracy: 0.981 [0.940, 1.022]<br>time: 0.154 [0.151, 0.158]<br><br><em>Parameterization:</em><br>lr: 0.002361839462890733<br>beta1: 0.9636102536442896\",\"<b>Parameterization 43</b><br>accuracy: 0.984 [0.951, 1.017]<br>time: 0.154 [0.151, 0.158]<br><br><em>Parameterization:</em><br>lr: 0.001977657490917472<br>beta1: 0.9611060706927124\",\"<b>Parameterization 44</b><br>accuracy: 0.98 [0.935, 1.025]<br>time: 0.154 [0.151, 0.158]<br><br><em>Parameterization:</em><br>lr: 0.002468636563097625<br>beta1: 0.9644210030964776\",\"<b>Parameterization 45</b><br>accuracy: 0.982 [0.944, 1.020]<br>time: 0.154 [0.151, 0.158]<br><br><em>Parameterization:</em><br>lr: 0.0022637482311971607<br>beta1: 0.9628121302342187\",\"<b>Parameterization 46</b><br>accuracy: 0.982 [0.943, 1.020]<br>time: 0.154 [0.151, 0.158]<br><br><em>Parameterization:</em><br>lr: 0.0022832294132053075<br>beta1: 0.9630206159756216\",\"<b>Parameterization 47</b><br>accuracy: 0.983 [0.948, 1.018]<br>time: 0.154 [0.151, 0.158]<br><br><em>Parameterization:</em><br>lr: 0.0021263281474882844<br>beta1: 0.961907623942417\",\"<b>Parameterization 48</b><br>accuracy: 0.984 [0.950, 1.017]<br>time: 0.154 [0.151, 0.158]<br><br><em>Parameterization:</em><br>lr: 0.00201966974384884<br>beta1: 0.9612864523794191\",\"<b>Parameterization 49</b><br>accuracy: 0.98 [0.932, 1.027]<br>time: 0.154 [0.151, 0.158]<br><br><em>Parameterization:</em><br>lr: 0.0025310702239577224<br>beta1: 0.9649275067907488\",\"<b>Parameterization 50</b><br>accuracy: 0.982 [0.942, 1.021]<br>time: 0.154 [0.151, 0.158]<br><br><em>Parameterization:</em><br>lr: 0.0023058692784602<br>beta1: 0.9631770432394258\",\"<b>Parameterization 51</b><br>accuracy: 0.979 [0.929, 1.029]<br>time: 0.154 [0.151, 0.158]<br><br><em>Parameterization:</em><br>lr: 0.0026005318370374347<br>beta1: 0.9654072678807408\",\"<b>Parameterization 52</b><br>accuracy: 0.983 [0.948, 1.018]<br>time: 0.154 [0.151, 0.158]<br><br><em>Parameterization:</em><br>lr: 0.0021379454222037308<br>beta1: 0.9619840407732463\",\"<b>Parameterization 53</b><br>accuracy: 0.981 [0.942, 1.021]<br>time: 0.154 [0.151, 0.158]<br><br><em>Parameterization:</em><br>lr: 0.0023280625955489306<br>beta1: 0.9633068603567759\",\"<b>Parameterization 54</b><br>accuracy: 0.986 [0.951, 1.020]<br>time: 0.154 [0.151, 0.158]<br><br><em>Parameterization:</em><br>lr: 0.0017235077538250107<br>beta1: 0.960648878548242\",\"<b>Parameterization 55</b><br>accuracy: 0.986 [0.952, 1.019]<br>time: 0.154 [0.151, 0.158]<br><br><em>Parameterization:</em><br>lr: 0.0017608491377020029<br>beta1: 0.9605924441335316\",\"<b>Parameterization 56</b><br>accuracy: 0.984 [0.951, 1.017]<br>time: 0.154 [0.151, 0.158]<br><br><em>Parameterization:</em><br>lr: 0.002009131119135265<br>beta1: 0.9612758813862927\",\"<b>Parameterization 57</b><br>accuracy: 0.983 [0.947, 1.018]<br>time: 0.154 [0.151, 0.158]<br><br><em>Parameterization:</em><br>lr: 0.002170944096912526<br>beta1: 0.9621799034116344\",\"<b>Parameterization 58</b><br>accuracy: 0.98 [0.933, 1.026]<br>time: 0.154 [0.151, 0.158]<br><br><em>Parameterization:</em><br>lr: 0.0025097607882247725<br>beta1: 0.9647612780869474\",\"<b>Parameterization 59</b><br>accuracy: 0.985 [0.952, 1.019]<br>time: 0.154 [0.151, 0.158]<br><br><em>Parameterization:</em><br>lr: 0.0018121564316513892<br>beta1: 0.9606108754120058\",\"<b>Parameterization 60</b><br>accuracy: 0.985 [0.952, 1.019]<br>time: 0.154 [0.151, 0.158]<br><br><em>Parameterization:</em><br>lr: 0.0017874972241354525<br>beta1: 0.9605927920219965\",\"<b>Parameterization 61</b><br>accuracy: 0.985 [0.952, 1.019]<br>time: 0.154 [0.151, 0.158]<br><br><em>Parameterization:</em><br>lr: 0.0017905783973225905<br>beta1: 0.9605814737091345\",\"<b>Parameterization 62</b><br>accuracy: 0.983 [0.948, 1.018]<br>time: 0.154 [0.151, 0.158]<br><br><em>Parameterization:</em><br>lr: 0.00211858853060671<br>beta1: 0.9619003702100808\",\"<b>Parameterization 63</b><br>accuracy: 0.979 [0.929, 1.029]<br>time: 0.154 [0.151, 0.158]<br><br><em>Parameterization:</em><br>lr: 0.0026007259204794885<br>beta1: 0.9654150611694592\",\"<b>Parameterization 64</b><br>accuracy: 0.986 [0.952, 1.020]<br>time: 0.154 [0.151, 0.158]<br><br><em>Parameterization:</em><br>lr: 0.001746830615307526<br>beta1: 0.9605785706624506\",\"<b>Parameterization 65</b><br>accuracy: 0.982 [0.943, 1.021]<br>time: 0.154 [0.151, 0.158]<br><br><em>Parameterization:</em><br>lr: 0.0023049051157120045<br>beta1: 0.9631116740297834\",\"<b>Parameterization 66</b><br>accuracy: 0.98 [0.931, 1.028]<br>time: 0.154 [0.151, 0.158]<br><br><em>Parameterization:</em><br>lr: 0.0025595497491778686<br>beta1: 0.9651295124413979\",\"<b>Parameterization 67</b><br>accuracy: 0.985 [0.952, 1.018]<br>time: 0.154 [0.151, 0.158]<br><br><em>Parameterization:</em><br>lr: 0.001870456306007744<br>beta1: 0.960741255742349\",\"<b>Parameterization 68</b><br>accuracy: 0.986 [0.951, 1.020]<br>time: 0.154 [0.151, 0.158]<br><br><em>Parameterization:</em><br>lr: 0.001727050378984494<br>beta1: 0.9606447197911161\",\"<b>Parameterization 69</b><br>accuracy: 0.985 [0.952, 1.018]<br>time: 0.154 [0.151, 0.158]<br><br><em>Parameterization:</em><br>lr: 0.0018473226908426589<br>beta1: 0.9606807107357609\",\"<b>Parameterization 70</b><br>accuracy: 0.986 [0.951, 1.020]<br>time: 0.154 [0.151, 0.158]<br><br><em>Parameterization:</em><br>lr: 0.001715972109561535<br>beta1: 0.9606464437566833\",\"<b>Parameterization 71</b><br>accuracy: 0.982 [0.943, 1.020]<br>time: 0.154 [0.151, 0.158]<br><br><em>Parameterization:</em><br>lr: 0.002287950262305141<br>beta1: 0.9630064235897869\",\"<b>Parameterization 72</b><br>accuracy: 0.979 [0.930, 1.029]<br>time: 0.154 [0.151, 0.158]<br><br><em>Parameterization:</em><br>lr: 0.0025811586939828482<br>beta1: 0.9652831707996888\",\"<b>Parameterization 73</b><br>accuracy: 0.985 [0.952, 1.018]<br>time: 0.154 [0.151, 0.158]<br><br><em>Parameterization:</em><br>lr: 0.0018867834146060456<br>beta1: 0.9607828400497171\",\"<b>Parameterization 74</b><br>accuracy: 0.982 [0.947, 1.018]<br>time: 0.154 [0.151, 0.158]<br><br><em>Parameterization:</em><br>lr: 0.0021823344708354403<br>beta1: 0.9622832387033013\",\"<b>Parameterization 75</b><br>accuracy: 0.983 [0.950, 1.017]<br>time: 0.154 [0.151, 0.158]<br><br><em>Parameterization:</em><br>lr: 0.0020533016177690074<br>beta1: 0.9614774084905011\",\"<b>Parameterization 76</b><br>accuracy: 0.986 [0.952, 1.020]<br>time: 0.154 [0.151, 0.158]<br><br><em>Parameterization:</em><br>lr: 0.0017449487023191827<br>beta1: 0.9605751891768023\",\"<b>Parameterization 77</b><br>accuracy: 0.985 [0.952, 1.019]<br>time: 0.154 [0.151, 0.158]<br><br><em>Parameterization:</em><br>lr: 0.0017699858763015467<br>beta1: 0.9605685391483969\",\"<b>Parameterization 78</b><br>accuracy: 0.985 [0.952, 1.018]<br>time: 0.154 [0.151, 0.158]<br><br><em>Parameterization:</em><br>lr: 0.001890409257859752<br>beta1: 0.9607923062441472\",\"<b>Parameterization 79</b><br>accuracy: 0.986 [0.951, 1.020]<br>time: 0.154 [0.151, 0.158]<br><br><em>Parameterization:</em><br>lr: 0.0017231571197685763<br>beta1: 0.9606426953621018\",\"<b>Parameterization 80</b><br>accuracy: 0.986 [0.951, 1.020]<br>time: 0.154 [0.151, 0.158]<br><br><em>Parameterization:</em><br>lr: 0.0017334848642159444<br>beta1: 0.9606243071888472\",\"<b>Parameterization 81</b><br>accuracy: 0.98 [0.935, 1.025]<br>time: 0.154 [0.151, 0.158]<br><br><em>Parameterization:</em><br>lr: 0.002473355378921817<br>beta1: 0.9644339280181418\",\"<b>Parameterization 82</b><br>accuracy: 0.985 [0.952, 1.019]<br>time: 0.154 [0.151, 0.158]<br><br><em>Parameterization:</em><br>lr: 0.0017966437419490472<br>beta1: 0.9606072337307622\",\"<b>Parameterization 83</b><br>accuracy: 0.986 [0.952, 1.019]<br>time: 0.154 [0.151, 0.158]<br><br><em>Parameterization:</em><br>lr: 0.001757319025618184<br>beta1: 0.9605784797069713\",\"<b>Parameterization 84</b><br>accuracy: 0.985 [0.952, 1.018]<br>time: 0.154 [0.151, 0.158]<br><br><em>Parameterization:</em><br>lr: 0.0018715276380267345<br>beta1: 0.9607342786316495\",\"<b>Parameterization 85</b><br>accuracy: 0.981 [0.940, 1.022]<br>time: 0.154 [0.151, 0.158]<br><br><em>Parameterization:</em><br>lr: 0.0023533301050410594<br>beta1: 0.9635675873091566\",\"<b>Parameterization 86</b><br>accuracy: 0.986 [0.951, 1.020]<br>time: 0.154 [0.151, 0.158]<br><br><em>Parameterization:</em><br>lr: 0.0017191482935916655<br>beta1: 0.9606477928892297\",\"<b>Parameterization 87</b><br>accuracy: 0.986 [0.951, 1.020]<br>time: 0.154 [0.151, 0.158]<br><br><em>Parameterization:</em><br>lr: 0.001724208839406285<br>beta1: 0.9606465582629135\",\"<b>Parameterization 88</b><br>accuracy: 0.98 [0.935, 1.026]<br>time: 0.154 [0.151, 0.158]<br><br><em>Parameterization:</em><br>lr: 0.0024824167519310646<br>beta1: 0.9645243569994284\",\"<b>Parameterization 89</b><br>accuracy: 0.986 [0.952, 1.020]<br>time: 0.154 [0.151, 0.158]<br><br><em>Parameterization:</em><br>lr: 0.0017443994042433532<br>beta1: 0.9606027625041808\",\"<b>Parameterization 90</b><br>accuracy: 0.985 [0.952, 1.019]<br>time: 0.154 [0.151, 0.158]<br><br><em>Parameterization:</em><br>lr: 0.0018063701597322269<br>beta1: 0.9606051312550274\",\"<b>Parameterization 91</b><br>accuracy: 0.986 [0.952, 1.020]<br>time: 0.154 [0.151, 0.158]<br><br><em>Parameterization:</em><br>lr: 0.0017429257202498806<br>beta1: 0.9606058132395807\",\"<b>Parameterization 92</b><br>accuracy: 0.986 [0.952, 1.020]<br>time: 0.154 [0.151, 0.158]<br><br><em>Parameterization:</em><br>lr: 0.0017389498619835822<br>beta1: 0.9605995354648603\",\"<b>Parameterization 93</b><br>accuracy: 0.986 [0.952, 1.020]<br>time: 0.154 [0.151, 0.158]<br><br><em>Parameterization:</em><br>lr: 0.0017383032563694915<br>beta1: 0.9606090411396624\",\"<b>Parameterization 94</b><br>accuracy: 0.986 [0.952, 1.020]<br>time: 0.154 [0.151, 0.158]<br><br><em>Parameterization:</em><br>lr: 0.001748293899584533<br>beta1: 0.9605838550151184\",\"<b>Parameterization 95</b><br>accuracy: 0.986 [0.951, 1.020]<br>time: 0.154 [0.151, 0.158]<br><br><em>Parameterization:</em><br>lr: 0.0017121188921887507<br>beta1: 0.9606501187991288\",\"<b>Parameterization 96</b><br>accuracy: 0.986 [0.952, 1.020]<br>time: 0.154 [0.151, 0.158]<br><br><em>Parameterization:</em><br>lr: 0.0017350540362326315<br>beta1: 0.960613856245965\",\"<b>Parameterization 97</b><br>accuracy: 0.986 [0.951, 1.020]<br>time: 0.154 [0.151, 0.158]<br><br><em>Parameterization:</em><br>lr: 0.0017180822965722534<br>beta1: 0.9606455166017476\",\"<b>Parameterization 98</b><br>accuracy: 0.986 [0.951, 1.020]<br>time: 0.154 [0.151, 0.158]<br><br><em>Parameterization:</em><br>lr: 0.0017183421997579269<br>beta1: 0.9606477214227156\",\"<b>Parameterization 99</b><br>accuracy: 0.986 [0.951, 1.020]<br>time: 0.154 [0.151, 0.158]<br><br><em>Parameterization:</em><br>lr: 0.0017094415672270426<br>beta1: 0.9606430741465835\"],\"x\":[0.9791661149756845,0.9792841942499858,0.9792984995740663,0.9792714810351977,0.9793365279644228,0.9797322439977405,0.9791832631156034,0.9823326788490525,0.9793976840503165,0.9792609576305178,0.9793071005492691,0.9833429422624967,0.9797678299509021,0.9810794599052934,0.9802912919868463,0.9802010587149592,0.9795975775216458,0.9792202752388849,0.9856105021189328,0.9856356738440003,0.9795727538390293,0.9795003593318266,0.9826525959150119,0.9796545756712036,0.9829758929312065,0.980483081452736,0.9813430019052429,0.9796564349118009,0.9791483795833762,0.9812558031471605,0.9809794416441513,0.9794598971395825,0.9800017786071314,0.9811681180731854,0.979426921517776,0.9814315615581609,0.9843075315244729,0.9791687327030918,0.9832678644518119,0.9817028745980576,0.981114658434495,0.9794572508319876,0.9810886638492775,0.9840054421365548,0.980247260180714,0.9818655657167974,0.9817027415477474,0.9829086572573373,0.9837026253252699,0.9797451957220964,0.9815287054108441,0.9792031650119066,0.9828206790890266,0.9813623777792286,0.985738887346588,0.9855047302782527,0.983773385403104,0.9825740785290713,0.9799154026704135,0.9851662261218657,0.9853305040039366,0.9853120480050264,0.9829602757377884,0.9792001236628398,0.9855983284072185,0.9815469747036476,0.9795219271621814,0.984764073671384,0.9857165529465345,0.9849250245903373,0.9857881796168524,0.981675016140615,0.9793522278267912,0.9846506124760156,0.9824829736912958,0.9834531906741213,0.9856111230631148,0.9854487359535166,0.9846253783989105,0.9857421609107704,0.9856780023340481,0.9802148461003439,0.9852684339808686,0.98552993387903,0.9847580578965356,0.9811511716646653,0.985767356434677,0.98573470989362,0.9801385155548166,0.9856103781523785,0.985205023795581,0.9856194959492541,0.9856463734736052,0.9856490799697972,0.9855879642390641,0.9858125672812602,0.9856694587820156,0.9857746412607229,0.9857725980388399,0.9858310676896928],\"y\":[0.1543313804663813,0.1543332037374145,0.15433342628786706,0.15433300585436982,0.1543340210038852,0.15434039036585867,0.1543316434515568,0.15439189624916796,0.15433498292551748,0.15433284235973485,0.15433356054447203,0.15441716395199775,0.15434098131628354,0.15436484869797987,0.1543500106050439,0.15434839827564512,0.15433818418863968,0.15433221295721444,0.15448780556120636,0.15448874509904814,0.15433778371218743,0.15433661722061337,0.1543995541502026,0.15433911481309742,0.15440761062241873,0.15435346665532462,0.1543701835736606,0.1543391451476693,0.15433110916588222,0.154368392388192,0.15436287586443204,0.15433597006309124,0.15434493384394288,0.1543666328776898,0.154335446169126,0.15437201746550935,0.15444447026651348,0.1543314205380114,0.15441515561716324,0.154377739274301,0.15436554999618524,0.15433592820688619,0.1543650205556011,0.15443555276140408,0.15434921901775345,0.15438131806653152,0.15437773008819713,0.15440589715274272,0.15442696191881566,0.15434060566176486,0.15437402822426732,0.15433195003181616,0.15440369008666227,0.1543705814084279,0.15449267734427585,0.1544839317453245,0.15442890747672558,0.1543976564135014,0.15434345875534036,0.15447201161312,0.15447770503383326,0.15447705639177806,0.15440716867512363,0.15433190296242547,0.1544873537023123,0.15437444580789636,0.15433696333692154,0.15445868388775683,0.1544918250589014,0.15446392112268773,0.1544945604298086,0.15437716172768487,0.15433426726371396,0.15445506849744786,0.15439544868908345,0.15442010565432165,0.15448782501293895,0.15448190178238322,0.1544542726800845,0.15449279615270192,0.15449035282936116,0.15434865057867994,0.1544755349055543,0.15448484329847892,0.15445849536487405,0.15436625821823002,0.15449376313468494,0.154492516180105,0.15434730461171114,0.15448781358353483,0.1544733417509165,0.15448815379308134,0.15448915025987567,0.15448925781863396,0.1544869740134858,0.15449550387390676,0.154490024064362,0.15449403988249724,0.1544939638102256,0.1544962116789719],\"type\":\"scatter\"}],                        {\"height\":500,\"hovermode\":\"closest\",\"legend\":{\"orientation\":\"h\"},\"margin\":{\"b\":75,\"l\":225,\"pad\":4,\"t\":75},\"template\":{\"data\":{\"barpolar\":[{\"marker\":{\"line\":{\"color\":\"#E5ECF6\",\"width\":0.5},\"pattern\":{\"fillmode\":\"overlay\",\"size\":10,\"solidity\":0.2}},\"type\":\"barpolar\"}],\"bar\":[{\"error_x\":{\"color\":\"#2a3f5f\"},\"error_y\":{\"color\":\"#2a3f5f\"},\"marker\":{\"line\":{\"color\":\"#E5ECF6\",\"width\":0.5},\"pattern\":{\"fillmode\":\"overlay\",\"size\":10,\"solidity\":0.2}},\"type\":\"bar\"}],\"carpet\":[{\"aaxis\":{\"endlinecolor\":\"#2a3f5f\",\"gridcolor\":\"white\",\"linecolor\":\"white\",\"minorgridcolor\":\"white\",\"startlinecolor\":\"#2a3f5f\"},\"baxis\":{\"endlinecolor\":\"#2a3f5f\",\"gridcolor\":\"white\",\"linecolor\":\"white\",\"minorgridcolor\":\"white\",\"startlinecolor\":\"#2a3f5f\"},\"type\":\"carpet\"}],\"choropleth\":[{\"colorbar\":{\"outlinewidth\":0,\"ticks\":\"\"},\"type\":\"choropleth\"}],\"contourcarpet\":[{\"colorbar\":{\"outlinewidth\":0,\"ticks\":\"\"},\"type\":\"contourcarpet\"}],\"contour\":[{\"colorbar\":{\"outlinewidth\":0,\"ticks\":\"\"},\"colorscale\":[[0.0,\"#0d0887\"],[0.1111111111111111,\"#46039f\"],[0.2222222222222222,\"#7201a8\"],[0.3333333333333333,\"#9c179e\"],[0.4444444444444444,\"#bd3786\"],[0.5555555555555556,\"#d8576b\"],[0.6666666666666666,\"#ed7953\"],[0.7777777777777778,\"#fb9f3a\"],[0.8888888888888888,\"#fdca26\"],[1.0,\"#f0f921\"]],\"type\":\"contour\"}],\"heatmapgl\":[{\"colorbar\":{\"outlinewidth\":0,\"ticks\":\"\"},\"colorscale\":[[0.0,\"#0d0887\"],[0.1111111111111111,\"#46039f\"],[0.2222222222222222,\"#7201a8\"],[0.3333333333333333,\"#9c179e\"],[0.4444444444444444,\"#bd3786\"],[0.5555555555555556,\"#d8576b\"],[0.6666666666666666,\"#ed7953\"],[0.7777777777777778,\"#fb9f3a\"],[0.8888888888888888,\"#fdca26\"],[1.0,\"#f0f921\"]],\"type\":\"heatmapgl\"}],\"heatmap\":[{\"colorbar\":{\"outlinewidth\":0,\"ticks\":\"\"},\"colorscale\":[[0.0,\"#0d0887\"],[0.1111111111111111,\"#46039f\"],[0.2222222222222222,\"#7201a8\"],[0.3333333333333333,\"#9c179e\"],[0.4444444444444444,\"#bd3786\"],[0.5555555555555556,\"#d8576b\"],[0.6666666666666666,\"#ed7953\"],[0.7777777777777778,\"#fb9f3a\"],[0.8888888888888888,\"#fdca26\"],[1.0,\"#f0f921\"]],\"type\":\"heatmap\"}],\"histogram2dcontour\":[{\"colorbar\":{\"outlinewidth\":0,\"ticks\":\"\"},\"colorscale\":[[0.0,\"#0d0887\"],[0.1111111111111111,\"#46039f\"],[0.2222222222222222,\"#7201a8\"],[0.3333333333333333,\"#9c179e\"],[0.4444444444444444,\"#bd3786\"],[0.5555555555555556,\"#d8576b\"],[0.6666666666666666,\"#ed7953\"],[0.7777777777777778,\"#fb9f3a\"],[0.8888888888888888,\"#fdca26\"],[1.0,\"#f0f921\"]],\"type\":\"histogram2dcontour\"}],\"histogram2d\":[{\"colorbar\":{\"outlinewidth\":0,\"ticks\":\"\"},\"colorscale\":[[0.0,\"#0d0887\"],[0.1111111111111111,\"#46039f\"],[0.2222222222222222,\"#7201a8\"],[0.3333333333333333,\"#9c179e\"],[0.4444444444444444,\"#bd3786\"],[0.5555555555555556,\"#d8576b\"],[0.6666666666666666,\"#ed7953\"],[0.7777777777777778,\"#fb9f3a\"],[0.8888888888888888,\"#fdca26\"],[1.0,\"#f0f921\"]],\"type\":\"histogram2d\"}],\"histogram\":[{\"marker\":{\"pattern\":{\"fillmode\":\"overlay\",\"size\":10,\"solidity\":0.2}},\"type\":\"histogram\"}],\"mesh3d\":[{\"colorbar\":{\"outlinewidth\":0,\"ticks\":\"\"},\"type\":\"mesh3d\"}],\"parcoords\":[{\"line\":{\"colorbar\":{\"outlinewidth\":0,\"ticks\":\"\"}},\"type\":\"parcoords\"}],\"pie\":[{\"automargin\":true,\"type\":\"pie\"}],\"scatter3d\":[{\"line\":{\"colorbar\":{\"outlinewidth\":0,\"ticks\":\"\"}},\"marker\":{\"colorbar\":{\"outlinewidth\":0,\"ticks\":\"\"}},\"type\":\"scatter3d\"}],\"scattercarpet\":[{\"marker\":{\"colorbar\":{\"outlinewidth\":0,\"ticks\":\"\"}},\"type\":\"scattercarpet\"}],\"scattergeo\":[{\"marker\":{\"colorbar\":{\"outlinewidth\":0,\"ticks\":\"\"}},\"type\":\"scattergeo\"}],\"scattergl\":[{\"marker\":{\"colorbar\":{\"outlinewidth\":0,\"ticks\":\"\"}},\"type\":\"scattergl\"}],\"scattermapbox\":[{\"marker\":{\"colorbar\":{\"outlinewidth\":0,\"ticks\":\"\"}},\"type\":\"scattermapbox\"}],\"scatterpolargl\":[{\"marker\":{\"colorbar\":{\"outlinewidth\":0,\"ticks\":\"\"}},\"type\":\"scatterpolargl\"}],\"scatterpolar\":[{\"marker\":{\"colorbar\":{\"outlinewidth\":0,\"ticks\":\"\"}},\"type\":\"scatterpolar\"}],\"scatter\":[{\"fillpattern\":{\"fillmode\":\"overlay\",\"size\":10,\"solidity\":0.2},\"type\":\"scatter\"}],\"scatterternary\":[{\"marker\":{\"colorbar\":{\"outlinewidth\":0,\"ticks\":\"\"}},\"type\":\"scatterternary\"}],\"surface\":[{\"colorbar\":{\"outlinewidth\":0,\"ticks\":\"\"},\"colorscale\":[[0.0,\"#0d0887\"],[0.1111111111111111,\"#46039f\"],[0.2222222222222222,\"#7201a8\"],[0.3333333333333333,\"#9c179e\"],[0.4444444444444444,\"#bd3786\"],[0.5555555555555556,\"#d8576b\"],[0.6666666666666666,\"#ed7953\"],[0.7777777777777778,\"#fb9f3a\"],[0.8888888888888888,\"#fdca26\"],[1.0,\"#f0f921\"]],\"type\":\"surface\"}],\"table\":[{\"cells\":{\"fill\":{\"color\":\"#EBF0F8\"},\"line\":{\"color\":\"white\"}},\"header\":{\"fill\":{\"color\":\"#C8D4E3\"},\"line\":{\"color\":\"white\"}},\"type\":\"table\"}]},\"layout\":{\"annotationdefaults\":{\"arrowcolor\":\"#2a3f5f\",\"arrowhead\":0,\"arrowwidth\":1},\"autotypenumbers\":\"strict\",\"coloraxis\":{\"colorbar\":{\"outlinewidth\":0,\"ticks\":\"\"}},\"colorscale\":{\"diverging\":[[0,\"#8e0152\"],[0.1,\"#c51b7d\"],[0.2,\"#de77ae\"],[0.3,\"#f1b6da\"],[0.4,\"#fde0ef\"],[0.5,\"#f7f7f7\"],[0.6,\"#e6f5d0\"],[0.7,\"#b8e186\"],[0.8,\"#7fbc41\"],[0.9,\"#4d9221\"],[1,\"#276419\"]],\"sequential\":[[0.0,\"#0d0887\"],[0.1111111111111111,\"#46039f\"],[0.2222222222222222,\"#7201a8\"],[0.3333333333333333,\"#9c179e\"],[0.4444444444444444,\"#bd3786\"],[0.5555555555555556,\"#d8576b\"],[0.6666666666666666,\"#ed7953\"],[0.7777777777777778,\"#fb9f3a\"],[0.8888888888888888,\"#fdca26\"],[1.0,\"#f0f921\"]],\"sequentialminus\":[[0.0,\"#0d0887\"],[0.1111111111111111,\"#46039f\"],[0.2222222222222222,\"#7201a8\"],[0.3333333333333333,\"#9c179e\"],[0.4444444444444444,\"#bd3786\"],[0.5555555555555556,\"#d8576b\"],[0.6666666666666666,\"#ed7953\"],[0.7777777777777778,\"#fb9f3a\"],[0.8888888888888888,\"#fdca26\"],[1.0,\"#f0f921\"]]},\"colorway\":[\"#636efa\",\"#EF553B\",\"#00cc96\",\"#ab63fa\",\"#FFA15A\",\"#19d3f3\",\"#FF6692\",\"#B6E880\",\"#FF97FF\",\"#FECB52\"],\"font\":{\"color\":\"#2a3f5f\"},\"geo\":{\"bgcolor\":\"white\",\"lakecolor\":\"white\",\"landcolor\":\"#E5ECF6\",\"showlakes\":true,\"showland\":true,\"subunitcolor\":\"white\"},\"hoverlabel\":{\"align\":\"left\"},\"hovermode\":\"closest\",\"mapbox\":{\"style\":\"light\"},\"paper_bgcolor\":\"white\",\"plot_bgcolor\":\"#E5ECF6\",\"polar\":{\"angularaxis\":{\"gridcolor\":\"white\",\"linecolor\":\"white\",\"ticks\":\"\"},\"bgcolor\":\"#E5ECF6\",\"radialaxis\":{\"gridcolor\":\"white\",\"linecolor\":\"white\",\"ticks\":\"\"}},\"scene\":{\"xaxis\":{\"backgroundcolor\":\"#E5ECF6\",\"gridcolor\":\"white\",\"gridwidth\":2,\"linecolor\":\"white\",\"showbackground\":true,\"ticks\":\"\",\"zerolinecolor\":\"white\"},\"yaxis\":{\"backgroundcolor\":\"#E5ECF6\",\"gridcolor\":\"white\",\"gridwidth\":2,\"linecolor\":\"white\",\"showbackground\":true,\"ticks\":\"\",\"zerolinecolor\":\"white\"},\"zaxis\":{\"backgroundcolor\":\"#E5ECF6\",\"gridcolor\":\"white\",\"gridwidth\":2,\"linecolor\":\"white\",\"showbackground\":true,\"ticks\":\"\",\"zerolinecolor\":\"white\"}},\"shapedefaults\":{\"line\":{\"color\":\"#2a3f5f\"}},\"ternary\":{\"aaxis\":{\"gridcolor\":\"white\",\"linecolor\":\"white\",\"ticks\":\"\"},\"baxis\":{\"gridcolor\":\"white\",\"linecolor\":\"white\",\"ticks\":\"\"},\"bgcolor\":\"#E5ECF6\",\"caxis\":{\"gridcolor\":\"white\",\"linecolor\":\"white\",\"ticks\":\"\"}},\"title\":{\"x\":0.05},\"xaxis\":{\"automargin\":true,\"gridcolor\":\"white\",\"linecolor\":\"white\",\"ticks\":\"\",\"title\":{\"standoff\":15},\"zerolinecolor\":\"white\",\"zerolinewidth\":2},\"yaxis\":{\"automargin\":true,\"gridcolor\":\"white\",\"linecolor\":\"white\",\"ticks\":\"\",\"title\":{\"standoff\":15},\"zerolinecolor\":\"white\",\"zerolinewidth\":2}}},\"title\":{\"text\":\"Pareto Frontier\"},\"width\":750,\"xaxis\":{\"ticksuffix\":\"\",\"title\":{\"text\":\"accuracy\"},\"zeroline\":true},\"yaxis\":{\"ticksuffix\":\"\",\"title\":{\"text\":\"time\"},\"zeroline\":true}},                        {\"responsive\": true}                    ).then(function(){\n",
              "                            \n",
              "var gd = document.getElementById('2d3ee1b1-ed04-44dc-8735-4070582021c3');\n",
              "var x = new MutationObserver(function (mutations, observer) {{\n",
              "        var display = window.getComputedStyle(gd).display;\n",
              "        if (!display || display === 'none') {{\n",
              "            console.log([gd, 'removed!']);\n",
              "            Plotly.purge(gd);\n",
              "            observer.disconnect();\n",
              "        }}\n",
              "}});\n",
              "\n",
              "// Listen for the removal of the full notebook cells\n",
              "var notebookContainer = gd.closest('#notebook-container');\n",
              "if (notebookContainer) {{\n",
              "    x.observe(notebookContainer, {childList: true});\n",
              "}}\n",
              "\n",
              "// Listen for the clearing of the current output cell\n",
              "var outputEl = gd.closest('.output');\n",
              "if (outputEl) {{\n",
              "    x.observe(outputEl, {childList: true});\n",
              "}}\n",
              "\n",
              "                        })                };                            </script>        </div>\n",
              "</body>\n",
              "</html>"
            ]
          },
          "metadata": {}
        }
      ]
    },
    {
      "cell_type": "code",
      "source": [],
      "metadata": {
        "id": "2y2uOmkh0BO_"
      },
      "execution_count": null,
      "outputs": []
    }
  ],
  "metadata": {
    "colab": {
      "provenance": []
    },
    "kernelspec": {
      "display_name": "Python 3",
      "name": "python3"
    },
    "language_info": {
      "name": "python"
    }
  },
  "nbformat": 4,
  "nbformat_minor": 0
}